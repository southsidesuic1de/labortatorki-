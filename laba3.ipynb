{
  "cells": [
    {
      "cell_type": "markdown",
      "metadata": {
        "id": "BY9CN-mTM7p-"
      },
      "source": [
        "# Лабораторная работа 3. Функции."
      ]
    },
    {
      "cell_type": "markdown",
      "metadata": {
        "id": "9MboyDhFM7qC"
      },
      "source": [
        "Функции широко используются в программировании и являются одним из основных понятий, которые необходимо освоить. Функции в Python могут иметь ряд входных параметров и возвращать одно или несколько значений или ничего не возвращать. Цель использования функций состоит из двух частей:\n",
        "\n",
        "- группировать строки кода, которые естественным образом связаны друг с другом\n",
        "\n",
        "- параметризовать набор выражений таких, которые можно написать только один раз, а затем использовать с разными параметрами"
      ]
    },
    {
      "cell_type": "markdown",
      "metadata": {
        "id": "Kfgj5guFM7qD"
      },
      "source": [
        "В языке программирования Python функции определяются с помощью оператора def. "
      ]
    },
    {
      "cell_type": "markdown",
      "metadata": {
        "id": "yBSNaVc2M7qE"
      },
      "source": [
        "Как и другие сложные инструкции вроде условного оператора и циклов функция состоит из заголовка и тела. Заголовок оканчивается двоеточием и переходом на новую строку. Тело имеет отступ. Ключевое слово def сообщает интерпретатору, что перед ним определение функции. За def следует имя функции. После имени функции ставятся скобки, в них указываются параметры. После двоеточия следует тело, содержащее инструкции, которые выполняются при вызове функции. \n",
        "\n",
        "Следует различать определение функции и ее вызов. В программном коде они не рядом и не вместе. Можно определить функцию, но ни разу ее не вызвать. Нельзя вызвать функцию, которая не была определена. Определив функцию, но ни разу не вызвав ее, вы никогда не выполните ее тела."
      ]
    },
    {
      "cell_type": "markdown",
      "metadata": {
        "id": "OPVRZGvvM7qE"
      },
      "source": [
        "Если функция содержит инструкции if-elif-else, каждый из блока может возвращать значение с помощью return:"
      ]
    },
    {
      "cell_type": "code",
      "execution_count": null,
      "metadata": {
        "id": "nRNeEHYxM7qF"
      },
      "outputs": [],
      "source": [
        "def check_sign(x):\n",
        "    if x > 0:\n",
        "        return print('это положительное число')\n",
        "    elif x < 0:\n",
        "        return print('это отрицательное число')\n",
        "    else:\n",
        "        return print('это число равно нулю')"
      ]
    },
    {
      "cell_type": "markdown",
      "metadata": {
        "id": "6Tln-9gTM7qG"
      },
      "source": [
        "В этой ситуации только один блок будет выполнен при вызове функции check_sign."
      ]
    },
    {
      "cell_type": "code",
      "execution_count": null,
      "metadata": {
        "id": "pyc2jILSM7qG",
        "outputId": "1a4f5dc4-37f9-4475-ee14-8ddcb2c18c47"
      },
      "outputs": [
        {
          "name": "stdout",
          "output_type": "stream",
          "text": [
            "это положительное число\n"
          ]
        }
      ],
      "source": [
        "check_sign(1)"
      ]
    },
    {
      "cell_type": "markdown",
      "metadata": {
        "id": "YJTYYVGbM7qI"
      },
      "source": [
        "# Пример 1."
      ]
    },
    {
      "cell_type": "markdown",
      "metadata": {
        "id": "rzNjceqeM7qI"
      },
      "source": [
        "Функция может не иметь возвращаемого значения (в этом случае инструкция return опускается), а также возвращать более одного значения."
      ]
    },
    {
      "cell_type": "code",
      "execution_count": null,
      "metadata": {
        "id": "_aUDCB89M7qI"
      },
      "outputs": [],
      "source": [
        "def xy(v0x, v0y, t):\n",
        "    g = 9.81\n",
        "    return v0x*t, v0y*t - 0.5*g*t**2"
      ]
    },
    {
      "cell_type": "markdown",
      "metadata": {
        "id": "qm9RwoH1M7qJ"
      },
      "source": [
        "При этом возвращаемые значения разделяются запятой. При вызове функции аргументы должны следовать в том же порядке, как и в определении. Теперь мы можем напечатать результат следующим образом:"
      ]
    },
    {
      "cell_type": "code",
      "execution_count": null,
      "metadata": {
        "id": "7zj4CHKYM7qJ",
        "outputId": "b4a05ed0-a9c3-4dc6-d0ee-701124389606"
      },
      "outputs": [
        {
          "name": "stdout",
          "output_type": "stream",
          "text": [
            "(1.2, 1.2342)\n"
          ]
        }
      ],
      "source": [
        "initial_velocity_x = 2.0\n",
        "initial_velocity_y = 5.0\n",
        "\n",
        "time = 0.6\n",
        "\n",
        "print (xy(initial_velocity_x, initial_velocity_y, time))"
      ]
    },
    {
      "cell_type": "markdown",
      "metadata": {
        "id": "LsOzIEhlM7qK"
      },
      "source": [
        "Два возвращаемых значения могут быть присвоены двум переменным, например, так"
      ]
    },
    {
      "cell_type": "code",
      "execution_count": null,
      "metadata": {
        "id": "T1sCxT2LM7qK",
        "outputId": "6f2637d3-1cb6-47ea-9c03-89714d5a4e02"
      },
      "outputs": [
        {
          "name": "stdout",
          "output_type": "stream",
          "text": [
            "1.2 1.2342\n"
          ]
        }
      ],
      "source": [
        "x, y = xy(initial_velocity_x, initial_velocity_y, time)\n",
        "\n",
        "print(x, y)"
      ]
    },
    {
      "cell_type": "markdown",
      "metadata": {
        "id": "OFk9eEbnM7qL"
      },
      "source": [
        "Теперь переменные x и y могут использоваться в коде."
      ]
    },
    {
      "cell_type": "markdown",
      "metadata": {
        "id": "ng9scAdRM7qL"
      },
      "source": [
        "Переменные, которые определены внутри функции (например, g в xy), являются локальными переменными. Это означает, что они видимы только внутри функции. Поэтому, если мы случайно попытаемся использовать переменную g вне функции, мы получим сообщение об ошибке. Переменная time определена вне функции и поэтому является глобальной переменной. Она видима как вне, так и внутри функции(ий). Если мы определим одну глобальную и одну локальную переменные с одним и тем же именем, то внутри функции будет видима только локальная переменная, при этом глобальная переменная не изменяется при изменении локальной переменной с тем же именем.\n",
        "\n",
        "Аргументы перечисленные в заголовке определения функции, как правило, являются локальными переменными. Если нужно изменить значение глобальной переменной внутри функции, следует определить переменную внутри функции как глобальную, т.е., если глобальная переменная имеет имя x, то нам нужно написать global x внутри определения функции, прежде чем изменять её значение. После выполнения функции, x будет иметь измененное значение. Следует стараться определять переменные там, где они необходимы.\n",
        "\n",
        "Еще один полезный способ управления параметрами в Python заключается в использовании именованных аргументов. Этот подход позволяет задавать аргументам значения по умолчанию и дает больше свободы в вызове функций, так как порядок и количество аргументов может варьироваться."
      ]
    },
    {
      "cell_type": "code",
      "execution_count": null,
      "metadata": {
        "id": "IqAf7zN0M7qL"
      },
      "outputs": [],
      "source": [
        "def xy(t, v0x = 0, v0y = 0):\n",
        "    g = 9.81\n",
        "    return v0x*t, v0y*t - 0.5*g*t**2"
      ]
    },
    {
      "cell_type": "markdown",
      "metadata": {
        "id": "p6xmv3l6M7qM"
      },
      "source": [
        "Здесь t — обычный или позиционный аргумент, тогда как v0x и v0y — именованные аргументы. В общем случае, может быть несколько позиционных и несколько именованных аргументов, но позиционные аргументы всегда должны следовать перед именованными в определении функции. Именованные аргументы имеют значение по умолчанию, в нашем примере vx0 и v0y по умолчанию равны нулю. В сценарии функция xy_named может быть вызвана разными способами. Например"
      ]
    },
    {
      "cell_type": "code",
      "execution_count": null,
      "metadata": {
        "id": "ttky-1S_M7qM",
        "outputId": "5e19220b-843b-447c-d37f-97b4c108d215"
      },
      "outputs": [
        {
          "name": "stdout",
          "output_type": "stream",
          "text": [
            "(0.0, -1.7658)\n"
          ]
        }
      ],
      "source": [
        "print (xy(0.6))"
      ]
    },
    {
      "cell_type": "markdown",
      "metadata": {
        "id": "GwJYNJOEM7qN"
      },
      "source": [
        "выполнит вычисления с t = 0.6 и значениями,заданными по умолчанию (в нашем случае 0) для v0x и v0y. Два возвращаемых функцией xy_named значения будут выведены на экран. Если мы хотим использовать другое значение для переменной v0y, мы можем, например, написать"
      ]
    },
    {
      "cell_type": "code",
      "execution_count": null,
      "metadata": {
        "id": "AyYqZR8xM7qO",
        "outputId": "684629cc-398c-4992-e53b-5f27c36936d6"
      },
      "outputs": [
        {
          "name": "stdout",
          "output_type": "stream",
          "text": [
            "(0.0, 0.6341999999999999)\n"
          ]
        }
      ],
      "source": [
        "print (xy(0.6, v0y = 4.0))"
      ]
    },
    {
      "cell_type": "markdown",
      "metadata": {
        "id": "M2uNcdQXM7qO"
      },
      "source": [
        "Функция также может быть определена внутри другой функции. В этом случае она становится локальной или вложенной функцией, видимой только функцией, внутри которой она определена. Функции определенные в главном сценарии называются глобальными функциями. Вложенная функция имеет полный доступ ко всем переменным родительской функции, т.е. функции, внутри которой она определена.\n",
        "\n",
        "Короткие функции могут определяться компактно с помощью лямбда функций:"
      ]
    },
    {
      "cell_type": "code",
      "execution_count": null,
      "metadata": {
        "id": "otYWnHZTM7qP"
      },
      "outputs": [],
      "source": [
        "f = lambda x, y: x + 2*y"
      ]
    },
    {
      "cell_type": "code",
      "execution_count": null,
      "metadata": {
        "id": "qQT06u5cM7qP",
        "outputId": "48e5113e-a094-4753-a0b6-a7424572d9dc"
      },
      "outputs": [
        {
          "data": {
            "text/plain": [
              "5"
            ]
          },
          "execution_count": 2,
          "metadata": {},
          "output_type": "execute_result"
        }
      ],
      "source": [
        "f(1,2)"
      ]
    },
    {
      "cell_type": "markdown",
      "metadata": {
        "id": "N8eWuIj-M7qQ"
      },
      "source": [
        "эквивалентно"
      ]
    },
    {
      "cell_type": "code",
      "execution_count": null,
      "metadata": {
        "id": "BVXzhiXZM7qQ"
      },
      "outputs": [],
      "source": [
        "def f(x, y):\n",
        "    return x + 2*y"
      ]
    },
    {
      "cell_type": "markdown",
      "metadata": {
        "id": "U9JLgcAeM7qR"
      },
      "source": [
        "Синтаксис состоит из ключевого слова lambda и следующих за ним набора аргументов, двоеточия и некоторого выражения, дающим в результате объект, возвращаемый функцией. Лямбда функции особенно удобно использовать в качестве аргументов функций:"
      ]
    },
    {
      "cell_type": "code",
      "execution_count": null,
      "metadata": {
        "id": "geBjufIlM7qR",
        "outputId": "004bec44-33f8-4949-b973-bc53dcaf1fbc"
      },
      "outputs": [
        {
          "name": "stdout",
          "output_type": "stream",
          "text": [
            "6\n"
          ]
        }
      ],
      "source": [
        "def treat_xy(f, x, y):\n",
        "    return f(x,y)\n",
        "\n",
        "print (treat_xy(lambda x, y: x*y, 2, 3))"
      ]
    },
    {
      "cell_type": "markdown",
      "metadata": {
        "id": "EETyKpTKM7qR"
      },
      "source": [
        "Видно, что treat_xy принимает имя функции в качестве первого аргумента. Внутри treat_xy это имя используется для вызова соответствующей функции."
      ]
    },
    {
      "cell_type": "markdown",
      "metadata": {
        "id": "C1m9M-V6M7qS"
      },
      "source": [
        "# Издержки при вызове функций\n",
        "\n",
        "Вызов функций имеет недостаток, заключающийся в замедлении выполнения программы. Как правило, разбиение программы на функции считается хорошим тоном, но в частях, содержащий очень интенсивные вычисления, например, внутри длинных циклов, нужно находить баланс между удобством вызова функции и вычислительной эффективностью, избегающей вызовы функций. Можно предложить правило, когда разрабатывается программа, содержащая много функций, а затем на стадии оптимизации, когда все вычисления корректны, удалять вызовы функций, которые замедляют выполнение кода.\n",
        "\n",
        "Ниже приведен небольшой пример, где вычисляется процессорное время при выполнение вычислений с массивами при использовании и без использования вспомогательной функции"
      ]
    },
    {
      "cell_type": "code",
      "execution_count": null,
      "metadata": {
        "id": "YQrx_QPGM7qS"
      },
      "outputs": [],
      "source": [
        "import numpy as np\n",
        "\n",
        "n = 1000000\n",
        "a = np.zeros(n)\n",
        "\n",
        "def add(a, b):\n",
        "    return a+b"
      ]
    },
    {
      "cell_type": "code",
      "execution_count": null,
      "metadata": {
        "id": "l16ie_NCM7qT",
        "outputId": "1ae37e59-d716-4827-da4c-84baf887b277"
      },
      "outputs": [
        {
          "name": "stdout",
          "output_type": "stream",
          "text": [
            "187 ms ± 714 µs per loop (mean ± std. dev. of 7 runs, 1 loop each)\n",
            "131 ms ± 3.54 ms per loop (mean ± std. dev. of 7 runs, 10 loops each)\n"
          ]
        }
      ],
      "source": [
        "%timeit for i in range (n): a[i] = add(i, i+1)\n",
        "    \n",
        "%timeit for i in range (n): a[i] = i + i+1"
      ]
    },
    {
      "cell_type": "markdown",
      "metadata": {
        "id": "r0Ggqs6wM7qT"
      },
      "source": [
        "# Пример 2. Разбор строки"
      ]
    },
    {
      "cell_type": "markdown",
      "metadata": {
        "id": "nxSLqu7uM7qU"
      },
      "source": [
        "Рассмотрим программу, которая определяет тип каждого символа строки введённой пользователем"
      ]
    },
    {
      "cell_type": "code",
      "execution_count": null,
      "metadata": {
        "id": "LqyeXTL9M7qU"
      },
      "outputs": [],
      "source": [
        "def STRparsing():\n",
        "    s=input('Введите что-нибудь: ')\n",
        "    n = len(s)\n",
        "    print('Вы ввели %i символа(-ов)' %(n))\n",
        "    \n",
        "    for i in range(n):\n",
        "        if '0' <= s[i] <= '9':\n",
        "            print ('%2s - это число' %(s[i]))\n",
        "        elif 'a' <= s[i] <= 'z':\n",
        "            print ('%2s - это маленькая буква латинского алфавита' %(s[i]))\n",
        "        else:\n",
        "            print ('%2s - это загадочный символ' %(s[i]))"
      ]
    },
    {
      "cell_type": "markdown",
      "metadata": {
        "id": "1Bh5ELCMM7qV"
      },
      "source": [
        "Вызовем это программу:"
      ]
    },
    {
      "cell_type": "code",
      "execution_count": null,
      "metadata": {
        "id": "hQG6mwmnM7qV",
        "outputId": "4f052129-651c-45c2-c97f-d44fb97fa2ae"
      },
      "outputs": [
        {
          "name": "stdout",
          "output_type": "stream",
          "text": [
            "Введите что-нибудь: oihoggo 097y5j  kjyggiмоидтж\n",
            "Вы ввели 28 символа(-ов)\n",
            " o - это маленькая буква латинского алфавита\n",
            " i - это маленькая буква латинского алфавита\n",
            " h - это маленькая буква латинского алфавита\n",
            " o - это маленькая буква латинского алфавита\n",
            " g - это маленькая буква латинского алфавита\n",
            " g - это маленькая буква латинского алфавита\n",
            " o - это маленькая буква латинского алфавита\n",
            "   - это загадочный символ\n",
            " 0 - это число\n",
            " 9 - это число\n",
            " 7 - это число\n",
            " y - это маленькая буква латинского алфавита\n",
            " 5 - это число\n",
            " j - это маленькая буква латинского алфавита\n",
            "   - это загадочный символ\n",
            "   - это загадочный символ\n",
            " k - это маленькая буква латинского алфавита\n",
            " j - это маленькая буква латинского алфавита\n",
            " y - это маленькая буква латинского алфавита\n",
            " g - это маленькая буква латинского алфавита\n",
            " g - это маленькая буква латинского алфавита\n",
            " i - это маленькая буква латинского алфавита\n",
            " м - это загадочный символ\n",
            " о - это загадочный символ\n",
            " и - это загадочный символ\n",
            " д - это загадочный символ\n",
            " т - это загадочный символ\n",
            " ж - это загадочный символ\n"
          ]
        }
      ],
      "source": [
        "STRparsing()"
      ]
    },
    {
      "cell_type": "markdown",
      "metadata": {
        "id": "Gn9qOvleM7qV"
      },
      "source": [
        "# Упражнение 1. \n",
        "\n",
        "Научити программу распознавать ещё какие-нибудь символы (например, латинские заглавные или символы кирилици). Обратите внимание, что по умолчанию используется кодировка UTF-8 (Unicode Transformation Format, 8-bit — «формат преобразования Юникода, 8-бит»), допускающая задания 1 112 064 символа (https://unicode-table.com/ru/#cjk-unified-ideographs)."
      ]
    },
    {
      "cell_type": "code",
      "execution_count": null,
      "metadata": {
        "id": "3OwK8X4oM7qW",
        "colab": {
          "base_uri": "https://localhost:8080/"
        },
        "outputId": "fb97fd05-28d9-4b9b-9b7a-44be3ee42734"
      },
      "outputs": [
        {
          "output_type": "stream",
          "name": "stdout",
          "text": [
            "Ввод:d\n",
            "Вы ввели 1 символов:\n",
            " d - Это маленькая буква латинского алфавита\n"
          ]
        }
      ],
      "source": [
        "def STRparsing():\n",
        "  s = input('Ввод:')\n",
        "  l = len(s)\n",
        "  print('Вы ввели %i символов:'%(l))\n",
        "  for i in range(l):\n",
        "    if '0' <= s[i] <= '9':\n",
        "      print('%2s - Это число' %(s[i]))\n",
        "    elif 'a' <= s[i] <= 'z':\n",
        "      print('%2s - Это маленькая буква латинского алфавита'%(s[i]))\n",
        "    elif 'A' <= s[i] <= 'Z':\n",
        "      print('%2s - Это большая буква латинского алфавита' %(s[i]))\n",
        "    elif 'А' <= s[i] <= 'Я':\n",
        "      print('%2s - Это большая буква кириллицы'%(s[i]))\n",
        "    elif 'а' <= s[i] <= 'я':\n",
        "      print('%2s - Это маленькая буква кириллицы'%(s[i]))\n",
        "    else:\n",
        "      print('%2s - Это загадочный символ'%(s[i]))\n",
        "STRparsing()"
      ]
    },
    {
      "cell_type": "markdown",
      "metadata": {
        "id": "w9RkV-nfM7qW"
      },
      "source": [
        "# Пример 3.\n",
        "\n",
        "Напишим программу определяющую результат логического вырожения, которое истинно тогда и только тогда, когда все три числа x, y и z больше 10.\n",
        "\n",
        "(Реализовать эту программу с помощью логических вырожений, без условного оператора.)"
      ]
    },
    {
      "cell_type": "code",
      "execution_count": null,
      "metadata": {
        "id": "uYKXhTJaM7qW"
      },
      "outputs": [],
      "source": [
        "def Logic1(x,y,z):\n",
        "    \n",
        "    logic = x > 10 and y > 10 and z > 10\n",
        "\n",
        "    return logic"
      ]
    },
    {
      "cell_type": "code",
      "execution_count": null,
      "metadata": {
        "id": "hEbnrqPOM7qX",
        "outputId": "d3e82eb5-6dc2-4d95-a800-da3e15987ccc"
      },
      "outputs": [
        {
          "name": "stdout",
          "output_type": "stream",
          "text": [
            "Результат этого логического выражения для заданных чисел: True <class 'bool'>\n"
          ]
        }
      ],
      "source": [
        "logic = Logic1(11,12,13)\n",
        "print('Результат этого логического выражения для заданных чисел: %s' %(logic), type(logic))"
      ]
    },
    {
      "cell_type": "markdown",
      "metadata": {
        "id": "PsvB-jsqM7qX"
      },
      "source": [
        "# Упражнение 2. \n",
        "\n",
        "Напишим программу определяющую результат логического вырожения, которое истинно тогда и только тогда, когда:\n",
        "\n",
        "- хотя бы одно из трех чисел X, Y, Z больше 10;\n",
        "- ровно одно число из X, Y, Z больше 10.\n",
        "\n",
        "(Реализовать эту программу с помощью логических вырожений, без условного оператора.)"
      ]
    },
    {
      "cell_type": "code",
      "execution_count": null,
      "metadata": {
        "id": "6JaeKQl1M7qY"
      },
      "outputs": [],
      "source": [
        "def f(x,y,z):\n",
        "    logic = x > 10 or y > 10 or z > 10 \n",
        "    return logic"
      ]
    },
    {
      "cell_type": "code",
      "source": [
        "print(f(15, 20, 5))"
      ],
      "metadata": {
        "colab": {
          "base_uri": "https://localhost:8080/"
        },
        "id": "7GyTtbA8n_2i",
        "outputId": "93a7af48-f3f9-4d4c-930e-e7e33fcfa0f4"
      },
      "execution_count": null,
      "outputs": [
        {
          "output_type": "stream",
          "name": "stdout",
          "text": [
            "True\n"
          ]
        }
      ]
    },
    {
      "cell_type": "code",
      "source": [
        "def f(x, y, z):\n",
        "  logic = (x > 10 and y <= 10 and z <= 10) or (x <= 10 and y <= 10 and z > 10)\n",
        "  return logic"
      ],
      "metadata": {
        "id": "_ie0uYI0pFEq"
      },
      "execution_count": null,
      "outputs": []
    },
    {
      "cell_type": "code",
      "source": [
        "print(f(15, 7, 35))"
      ],
      "metadata": {
        "colab": {
          "base_uri": "https://localhost:8080/"
        },
        "id": "JEIi1Mm-poPC",
        "outputId": "1dafc5b2-de10-43ec-8b3b-75feea2fe7f8"
      },
      "execution_count": null,
      "outputs": [
        {
          "output_type": "stream",
          "name": "stdout",
          "text": [
            "True\n"
          ]
        }
      ]
    },
    {
      "cell_type": "markdown",
      "metadata": {
        "id": "91wNEJe3M7qY"
      },
      "source": [
        "# Упражнение 3.\n",
        "\n",
        "Напишим программу определяющую результат логического вырожения, которое истинно тогда и только тогда, когда число x трехзначное и цифра 7 входит в его десятичную запись, и ложно в противном случае.\n",
        "\n",
        "(Реализовать эту программу с помощью логических вырожений, без условного оператора.)"
      ]
    },
    {
      "cell_type": "code",
      "execution_count": null,
      "metadata": {
        "colab": {
          "background_save": true
        },
        "id": "t-iYQCOPM7qY"
      },
      "outputs": [],
      "source": [
        "def Logic1(x):\n",
        "  logic = (x > 99 and x < 1000) * (x % 10 == 7 or x % 100 == 7 or x % 1000  == 7)\n",
        "  return logic"
      ]
    },
    {
      "cell_type": "markdown",
      "metadata": {
        "id": "4IiTaO9ZM7qY"
      },
      "source": [
        "# Домашнее задание (базовое):"
      ]
    },
    {
      "cell_type": "markdown",
      "metadata": {
        "id": "WLsaQrO5M7qZ"
      },
      "source": [
        "# Задание 1.\n",
        "\n",
        "Напишите программу определяющую результат логического вырожения, которое истинно тогда и только тогда, когда число x:\n",
        "\n",
        "- трехзначное и положительное, с 0 в конце;\n",
        "- нечетное, делится на 3 или на 5;\n",
        "- принадлежит отрезку числовой прямой [2, 6];\n",
        "- трехзначное и все его цифры одинаковые.\n",
        "\n",
        "(Реализовать эту программу с помощью логических вырожений, без условного оператора.)"
      ]
    },
    {
      "cell_type": "code",
      "execution_count": null,
      "metadata": {
        "id": "AMv04QmEM7qZ",
        "colab": {
          "base_uri": "https://localhost:8080/"
        },
        "outputId": "840d983f-7f8b-4e13-d3c8-089276a97679"
      },
      "outputs": [
        {
          "output_type": "stream",
          "name": "stdout",
          "text": [
            "335\n",
            "False True False False\n"
          ]
        }
      ],
      "source": [
        "def f(x):\n",
        "    print((99 < x < 1000 and x % 10 == 0), (x % 2 == 1 and ( x % 3 == 0 or x % 5 == 0)), (2 <= x <= 6), (x % 10 == x // 100 and x % 10 == (x % 100 // 10)))\n",
        "f(int(input()))"
      ]
    },
    {
      "cell_type": "markdown",
      "metadata": {
        "id": "hbwsY38_M7qZ"
      },
      "source": [
        "# Задание 2.\n",
        "\n",
        "Напишите программу определяющую результат логического вырожения, в котором используются числа 3 и 5, переменная x и логические операции, при этом:\n",
        "\n",
        "- выражение, истинное при любом x;\n",
        "- выражение, ложное при любом x.\n",
        "\n",
        "(Реализовать эту программу с помощью логических вырожений, без условного оператора.)"
      ]
    },
    {
      "cell_type": "code",
      "execution_count": null,
      "metadata": {
        "id": "LSV_kG7iM7qa",
        "colab": {
          "base_uri": "https://localhost:8080/"
        },
        "outputId": "030a5475-6f85-4e3d-8034-37128b05a943"
      },
      "outputs": [
        {
          "output_type": "stream",
          "name": "stdout",
          "text": [
            "Пожалуйста, введите число: 7\n",
            "True\n",
            "False\n"
          ]
        }
      ],
      "source": [
        "def aTrue(x):\n",
        "    print(x < 5 or x > 3)\n",
        "def aFalse(x):\n",
        "    print(x > 5 and x < 3)\n",
        "x = int(input('Пожалуйста, введите число: '))\n",
        "aTrue(x)\n",
        "aFalse(x)"
      ]
    },
    {
      "cell_type": "markdown",
      "metadata": {
        "id": "hS1YC8QoM7qa"
      },
      "source": [
        "# Задание 3.\n",
        "\n",
        "Напишите программу определяющую результат логического вырожения, которое истинно тогда и только тогда, когда координаты (x,y) принадлежат заштрихаванной области.\n",
        "\n",
        "(Реализовать эту программу с помощью логических вырожений, без условного оператора.)"
      ]
    },
    {
      "cell_type": "code",
      "execution_count": null,
      "metadata": {
        "id": "zG11Y1pNM7qa",
        "outputId": "383f7115-6245-46f5-fb8c-3c3ea534841f",
        "colab": {
          "base_uri": "https://localhost:8080/"
        }
      },
      "outputs": [
        {
          "output_type": "stream",
          "name": "stdout",
          "text": [
            "Введите координату х: 7\n",
            "Введите координату у: 8\n",
            "Принадлежит области а: True\n",
            "Принадлежит области б: False\n",
            "Принадлежит области в: False\n"
          ]
        }
      ],
      "source": [
        "def f():\n",
        "    x=float(input('Введите координату х: '))\n",
        "    y=float(input('Введите координату у: '))\n",
        "    print('Принадлежит области а:', (x <= -y and y < 3 and x < 4) or (x > 4 and y > 3))\n",
        "    print('Принадлежит области б:', x**2 + y**2 >= 9 and -3 <= x <= 3 and -3 <= y <= 3)\n",
        "    print('Принадлежит области в:', 0 <= x <= 5 and 0 <= y <= 5 and (x-5)**2 + (y-5)**2 > 25)\n",
        "f()"
      ]
    },
    {
      "cell_type": "code",
      "execution_count": null,
      "metadata": {
        "id": "RtSl0npOM7qb"
      },
      "outputs": [],
      "source": []
    },
    {
      "cell_type": "markdown",
      "metadata": {
        "id": "z6TRPkfxM7qb"
      },
      "source": [
        "# Задание 4\n",
        "\n",
        "В программировании можно из одной функции вызывать другую. Для иллюстрации этой возможности напишите программу по следующему описанию.\n",
        "\n",
        "Основная ветка программы, не считая заголовков функций, состоит из одной строки кода. Это вызов функции test(). В ней запрашивается на ввод целое число. Если оно положительное, то вызывается функция positive(), тело которой содержит команду вывода на экран слова \"Положительное\". Если число отрицательное, то вызывается функция negative(), ее тело содержит выражение вывода на экран слова \"Отрицательное\"."
      ]
    },
    {
      "cell_type": "code",
      "execution_count": null,
      "metadata": {
        "id": "lPk58RkfM7qb",
        "colab": {
          "base_uri": "https://localhost:8080/"
        },
        "outputId": "8978e2f5-fb60-40bc-fadf-e52d792be0e0"
      },
      "outputs": [
        {
          "output_type": "stream",
          "name": "stdout",
          "text": [
            "Пожалуйста, Введите число:-8764.543\n",
            "Отрицательное\n"
          ]
        }
      ],
      "source": [
        "def f(x):\n",
        "    if x > 0:\n",
        "        pstv()\n",
        "    elif x < 0:\n",
        "        ngtv()\n",
        "    else:\n",
        "        pass\n",
        "def pstv():\n",
        "    print('Положительное')\n",
        "def ngtv():\n",
        "    print('Отрицательное')\n",
        "f(float(input('Пожалуйста, Введите число:')))"
      ]
    },
    {
      "cell_type": "markdown",
      "metadata": {
        "id": "_WcQ4UStM7qc"
      },
      "source": [
        "# Задание 5\n",
        "\n",
        "Напишите программу, в которой определены следующие четыре функции:\n",
        "\n",
        "1. Функция getInput() не имеет параметров, запрашивает ввод с клавиатуры и возвращает в основную программу полученную строку.\n",
        "\n",
        "2. Функция testInput() имеет один параметр. В теле она проверяет, можно ли переданное ей значение преобразовать к целому числу. Если можно, возвращает логическое True. Если нельзя – False.\n",
        "\n",
        "3. Функция strToInt() имеет один параметр. В теле преобразовывает переданное значение к целочисленному типу. Возвращает полученное число.\n",
        "\n",
        "4. Функция printInt() имеет один параметр. Она выводит переданное значение на экран и ничего не возвращает.\n",
        "\n",
        "В основной ветке программы вызовите первую функцию. То, что она вернула, передайте во вторую функцию. Если вторая функция вернула True, то те же данные (из первой функции) передайте в третью функцию, а возвращенное третьей функцией значение – в четвертую."
      ]
    },
    {
      "cell_type": "code",
      "execution_count": null,
      "metadata": {
        "id": "ouREHp7DM7qc",
        "colab": {
          "base_uri": "https://localhost:8080/"
        },
        "outputId": "37a5d49a-2801-4613-bde4-e9e69d38eea1"
      },
      "outputs": [
        {
          "output_type": "stream",
          "name": "stdout",
          "text": [
            "Пожалуйста, введите строчечку:5643\n",
            "5643\n"
          ]
        }
      ],
      "source": [
        "def getInput():\n",
        "    x = input('Пожалуйста, введите строчечку:')\n",
        "    return x\n",
        "def testInput(a):\n",
        "    x = bool(1)\n",
        "    try:\n",
        "        x = int(a)\n",
        "    except ValueError:\n",
        "        x = bool(0)        \n",
        "    return x\n",
        "def strToInt(a):\n",
        "    x = int(a)\n",
        "    return x\n",
        "def printInt(a):\n",
        "    print(a)   \n",
        "x = getInput()\n",
        "if testInput(x) == bool(0):\n",
        "    pass\n",
        "else:\n",
        "    printInt(strToInt(x))"
      ]
    },
    {
      "cell_type": "markdown",
      "metadata": {
        "id": "Jjxs3aTlM7qc"
      },
      "source": [
        "# Домашнее задание (дополнительное):"
      ]
    },
    {
      "cell_type": "markdown",
      "metadata": {
        "id": "T3ehZN2cM7qc"
      },
      "source": [
        "# Задание «Игра в арифметику».\n",
        "\n",
        "Напишите программу, которая проверяет пользователя на знание таблицы умножения. Пользователь сам вводит два целых однозначных числа. Программа задаёт вопрос: результат умножения первого числа на второе.  Пользователь должен ввести ответ и увидеть на экране правильно он ответил или нет. Если нет  – показать еще и правильный результат. Повторять процедуру пока пользователь не даст 5 правильных ответов. После трёх правильных ответов подряд программа должна выводить поощрительное, ободряющее сообщение (на ваш вкус), после трёх неправильных ответов подряд – «грязно выругаться» (на ваш вкус)."
      ]
    },
    {
      "cell_type": "code",
      "execution_count": null,
      "metadata": {
        "id": "azJcPpKeM7qc"
      },
      "outputs": [],
      "source": []
    },
    {
      "cell_type": "markdown",
      "metadata": {
        "id": "z4E4NHkMM7qd"
      },
      "source": [
        "# Задание «Лишние буквы».\n",
        "\n",
        "Напишите функцию, которая удаляет из введённой пользователем строки все повторяющиеся символы и пробелы. После чего выводит полученный результат на экран. Например, если было введено \"abc cde def\", то должно быть выведено \"abcdef\"."
      ]
    },
    {
      "cell_type": "code",
      "execution_count": null,
      "metadata": {
        "id": "rz52eMsrM7qd"
      },
      "outputs": [],
      "source": []
    }
  ],
  "metadata": {
    "colab": {
      "provenance": [],
      "collapsed_sections": [
        "C1m9M-V6M7qS",
        "r0Ggqs6wM7qT",
        "w9RkV-nfM7qW",
        "4IiTaO9ZM7qY",
        "Jjxs3aTlM7qc",
        "T3ehZN2cM7qc",
        "z4E4NHkMM7qd"
      ]
    },
    "kernelspec": {
      "display_name": "Python 3",
      "language": "python",
      "name": "python3"
    },
    "language_info": {
      "codemirror_mode": {
        "name": "ipython",
        "version": 3
      },
      "file_extension": ".py",
      "mimetype": "text/x-python",
      "name": "python",
      "nbconvert_exporter": "python",
      "pygments_lexer": "ipython3",
      "version": "3.7.9"
    }
  },
  "nbformat": 4,
  "nbformat_minor": 0
}