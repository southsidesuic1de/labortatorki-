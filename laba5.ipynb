{
  "cells": [
    {
      "cell_type": "markdown",
      "metadata": {
        "id": "mxZenl0vabzr"
      },
      "source": [
        "# Лабораторная работа 5. Структурированные типы данных"
      ]
    },
    {
      "cell_type": "markdown",
      "metadata": {
        "id": "QDPLAtLxabzv"
      },
      "source": [
        "# Строки\n",
        "\n",
        "Строки представляют собой последовательности символов. Длина строки ограничена лишь объемом оперативной памяти компьютера. \n",
        "\n",
        "Поддерживают обращение к элементу по индексу, получение среза, конкатенацию (оператор +), повторение (оператор *), а также проверку на вхождение (операторы in и not in).\n",
        "\n",
        "Относятся к неизменяемым типам данных. Практически все операция в качестве значения возвращают новую строку. Поэтому для рациональной работы со строками желательно использовать специальные строковые методы."
      ]
    },
    {
      "cell_type": "markdown",
      "metadata": {
        "id": "Hqf628bNabzv"
      },
      "source": [
        "Например, доступны следующие манипуляции:"
      ]
    },
    {
      "cell_type": "code",
      "execution_count": null,
      "metadata": {
        "id": "FWfqgiy4abzw",
        "outputId": "b278ddfc-9ff2-4641-b3d6-2d8abc903cb7",
        "colab": {
          "base_uri": "https://localhost:8080/"
        }
      },
      "outputs": [
        {
          "output_type": "stream",
          "name": "stdout",
          "text": [
            "Hello, World! <class 'str'> 140071946748848\n"
          ]
        }
      ],
      "source": [
        "s = \"Hello, World!\"\n",
        "print(s, type(s), id(s))"
      ]
    },
    {
      "cell_type": "code",
      "execution_count": null,
      "metadata": {
        "id": "ngbTL_VFabzx",
        "outputId": "65271b31-1ff0-4371-ee3f-de145c77be05",
        "colab": {
          "base_uri": "https://localhost:8080/",
          "height": 183
        }
      },
      "outputs": [
        {
          "output_type": "error",
          "ename": "TypeError",
          "evalue": "ignored",
          "traceback": [
            "\u001b[0;31m---------------------------------------------------------------------------\u001b[0m",
            "\u001b[0;31mTypeError\u001b[0m                                 Traceback (most recent call last)",
            "\u001b[0;32m<ipython-input-2-0330678be040>\u001b[0m in \u001b[0;36m<module>\u001b[0;34m\u001b[0m\n\u001b[0;32m----> 1\u001b[0;31m \u001b[0ms\u001b[0m\u001b[0;34m[\u001b[0m\u001b[0;34m-\u001b[0m\u001b[0;36m1\u001b[0m\u001b[0;34m]\u001b[0m \u001b[0;34m=\u001b[0m \u001b[0;34m\"?\"\u001b[0m\u001b[0;34m\u001b[0m\u001b[0;34m\u001b[0m\u001b[0m\n\u001b[0m\u001b[1;32m      2\u001b[0m \u001b[0mprint\u001b[0m\u001b[0;34m(\u001b[0m\u001b[0ms\u001b[0m\u001b[0;34m,\u001b[0m \u001b[0mtype\u001b[0m\u001b[0;34m(\u001b[0m\u001b[0ms\u001b[0m\u001b[0;34m)\u001b[0m\u001b[0;34m,\u001b[0m \u001b[0mid\u001b[0m\u001b[0;34m(\u001b[0m\u001b[0ms\u001b[0m\u001b[0;34m)\u001b[0m\u001b[0;34m)\u001b[0m\u001b[0;34m\u001b[0m\u001b[0;34m\u001b[0m\u001b[0m\n",
            "\u001b[0;31mTypeError\u001b[0m: 'str' object does not support item assignment"
          ]
        }
      ],
      "source": [
        "s[-1] = \"?\"\n",
        "print(s, type(s), id(s))"
      ]
    },
    {
      "cell_type": "markdown",
      "metadata": {
        "id": "dLwpB1k5abzy"
      },
      "source": [
        "Для обозначения однострочечных символов (строк) можно использовать \" \" или ' ':"
      ]
    },
    {
      "cell_type": "code",
      "execution_count": null,
      "metadata": {
        "id": "WSuaDipKabzy"
      },
      "outputs": [],
      "source": [
        "s = s[:-1] + \"?\" + '...'\n",
        "print(s, type(s), id(s))"
      ]
    },
    {
      "cell_type": "markdown",
      "metadata": {
        "id": "VEXdV3zXabzy"
      },
      "source": [
        "Их комбинация задаёт ковычки в строке:"
      ]
    },
    {
      "cell_type": "code",
      "execution_count": null,
      "metadata": {
        "id": "EkYtHeVBabzy"
      },
      "outputs": [],
      "source": [
        "s = \"Кто сказал \" + '\"Hello, World!\"' + '?'\n",
        "print(s, type(s), id(s))"
      ]
    },
    {
      "cell_type": "markdown",
      "metadata": {
        "id": "xOimpevqabzz"
      },
      "source": [
        "Для создания многострочечных строк используйте тройные ковычки:"
      ]
    },
    {
      "cell_type": "code",
      "execution_count": null,
      "metadata": {
        "id": "bn9QBEyfabzz"
      },
      "outputs": [],
      "source": [
        "s = \"\"\"Строка 1\n",
        "Строка 2\n",
        "Строка 3\n",
        "\"\"\"\n",
        "print(s, type(s), id(s))"
      ]
    },
    {
      "cell_type": "markdown",
      "metadata": {
        "id": "KOceMHB0abzz"
      },
      "source": [
        "Если строка не присваивается переменной, то она считается строкой документирования. Такая строка сохраняется в атрибуте_doc_того объекта, в котором расположена. \n",
        "\n",
        "Например:"
      ]
    },
    {
      "cell_type": "code",
      "execution_count": null,
      "metadata": {
        "id": "wi2muv-cabzz"
      },
      "outputs": [],
      "source": [
        "def test():\n",
        "    \"\"\"Это описание функции\"\"\"\n",
        "    pass"
      ]
    },
    {
      "cell_type": "code",
      "execution_count": null,
      "metadata": {
        "id": "z43qZOlzabz0"
      },
      "outputs": [],
      "source": [
        "print (test.__doc__)"
      ]
    },
    {
      "cell_type": "markdown",
      "metadata": {
        "id": "bNu9XliRabz0"
      },
      "source": [
        "Строковые методы.\n",
        "\n",
        "Для строк есть множество методов. Посмотреть их можно по команде"
      ]
    },
    {
      "cell_type": "code",
      "execution_count": null,
      "metadata": {
        "id": "ogJvwSrAabz0"
      },
      "outputs": [],
      "source": [
        "dir(str)"
      ]
    },
    {
      "cell_type": "markdown",
      "metadata": {
        "id": "yqnaprSbabz0"
      },
      "source": [
        "Получить информацию по каждому можно следующим образом"
      ]
    },
    {
      "cell_type": "code",
      "execution_count": null,
      "metadata": {
        "id": "qNnPk5Klabz1"
      },
      "outputs": [],
      "source": [
        "help(str.split)"
      ]
    },
    {
      "cell_type": "code",
      "execution_count": null,
      "metadata": {
        "id": "tl2WqTjhabz1"
      },
      "outputs": [],
      "source": [
        "help(str.join)"
      ]
    },
    {
      "cell_type": "markdown",
      "metadata": {
        "id": "Ti7rsnmbabz1"
      },
      "source": [
        "Рассмотрим наиболее интересные из них:\n",
        "    \n",
        "- метод split() позволяет разбить строку по указанному разделителю (по умолчанию - пробелам), в результате получается список слов;\n",
        "- метод join() выполняет обратное действие, формирует из списка строку с определённым объединителем;\n",
        "- метод format() выполняет запонение строки в зарезервированные {} места."
      ]
    },
    {
      "cell_type": "markdown",
      "metadata": {
        "id": "yqxlrXP9abz2"
      },
      "source": [
        "Например:"
      ]
    },
    {
      "cell_type": "code",
      "execution_count": null,
      "metadata": {
        "id": "oZQx93-cabz2"
      },
      "outputs": [],
      "source": [
        "\"Хорошо бы разделить эту строку на части\".split()"
      ]
    },
    {
      "cell_type": "code",
      "execution_count": null,
      "metadata": {
        "id": "SJ83QPRDabz2"
      },
      "outputs": [],
      "source": [
        "s = \"Но не каждую строку, которую надо разделить, нужно делить по пробелам!!!\""
      ]
    },
    {
      "cell_type": "code",
      "execution_count": null,
      "metadata": {
        "id": "ihbN3f0Mabz3"
      },
      "outputs": [],
      "source": [
        "s.split(', ')"
      ]
    },
    {
      "cell_type": "code",
      "execution_count": null,
      "metadata": {
        "id": "WkSXivF3abz3"
      },
      "outputs": [],
      "source": [
        "s.split('!')"
      ]
    },
    {
      "cell_type": "code",
      "execution_count": null,
      "metadata": {
        "id": "QYJXdGrJabz3"
      },
      "outputs": [],
      "source": [
        "s.split('!', 1)  #  ограничем максимальное чило делений"
      ]
    },
    {
      "cell_type": "code",
      "execution_count": null,
      "metadata": {
        "id": "K4UwmSOeabz3"
      },
      "outputs": [],
      "source": [
        "s2 = s.split(', ')\n",
        "print(s2)"
      ]
    },
    {
      "cell_type": "code",
      "execution_count": null,
      "metadata": {
        "id": "yQrWxvFSabz4"
      },
      "outputs": [],
      "source": [
        "s1 = ', '\n",
        "print(s1, type(s1), id(s1))"
      ]
    },
    {
      "cell_type": "code",
      "execution_count": null,
      "metadata": {
        "id": "zJqHOwEOabz5"
      },
      "outputs": [],
      "source": [
        "s1 = s1.join(s2)\n",
        "print(s1, type(s1), id(s1))"
      ]
    },
    {
      "cell_type": "markdown",
      "metadata": {
        "id": "sKsk5P2iabz5"
      },
      "source": [
        "Строковый метод format() позволяет создать строку форматной вставкой в неё данных:"
      ]
    },
    {
      "cell_type": "code",
      "execution_count": null,
      "metadata": {
        "id": "xokji6vSabz5"
      },
      "outputs": [],
      "source": [
        "size = \"length - {}, width - {}, height - {}\"\n",
        "size.format(3, 6, 2.3)"
      ]
    },
    {
      "cell_type": "code",
      "execution_count": null,
      "metadata": {
        "id": "NidWzjXXabz5"
      },
      "outputs": [],
      "source": [
        "size = \"length - {2}, width - {0}, height - {1}\"\n",
        "size.format(3, 6, 2.3)"
      ]
    },
    {
      "cell_type": "code",
      "execution_count": null,
      "metadata": {
        "id": "xxuwlPiJabz5"
      },
      "outputs": [],
      "source": [
        "size = \"length - {length:5.3f}, width - {width:5.3f}, height - {height:5.3f}\"\n",
        "size.format(width=3.3333333, height=6.7896, length=2.3)"
      ]
    },
    {
      "cell_type": "markdown",
      "metadata": {
        "id": "9VZPQVYlabz6"
      },
      "source": [
        "# Списки\n",
        "\n",
        "Список в Python - это упорядоченный набор объектов, в который могут одновременно входить объекты разных типов (числа, строки и другие структуры). Эллементы списка доступны по индексу начинающегося с 0. Список является изменяемым типом данных - любой его эллемнт можно изменить.\n",
        "\n",
        "Список задаётся перечислением его элементов в квадратных скобках через запятую или с помощью функции list(), например"
      ]
    },
    {
      "cell_type": "code",
      "execution_count": null,
      "metadata": {
        "id": "lA7TKDuYabz6",
        "outputId": "d88129ff-f1e2-4228-91ea-0d554350743b"
      },
      "outputs": [
        {
          "data": {
            "text/plain": [
              "[1, 2.0, '3', [4]]"
            ]
          },
          "execution_count": 17,
          "metadata": {},
          "output_type": "execute_result"
        }
      ],
      "source": [
        "List = [1, 2.0, '3', [4]]\n",
        "List"
      ]
    },
    {
      "cell_type": "code",
      "execution_count": null,
      "metadata": {
        "id": "oiD2oK2eabz6",
        "outputId": "957faf76-19fd-457b-aac1-dd4915c77379"
      },
      "outputs": [
        {
          "data": {
            "text/plain": [
              "[1, 2.0, 'three', [4]]"
            ]
          },
          "execution_count": 18,
          "metadata": {},
          "output_type": "execute_result"
        }
      ],
      "source": [
        "List[2] = 'three'\n",
        "List"
      ]
    },
    {
      "cell_type": "markdown",
      "metadata": {
        "id": "26fCiR1Oabz6"
      },
      "source": [
        "Списки поддерживают следующие базовые операции:"
      ]
    },
    {
      "cell_type": "code",
      "execution_count": null,
      "metadata": {
        "id": "Rf0Q5EZuabz7",
        "outputId": "26dfdac3-91c7-43f8-a8d6-4dc76156f5ff"
      },
      "outputs": [
        {
          "data": {
            "text/plain": [
              "[0, 1, 2, 3, 4, 5, 6, 7]"
            ]
          },
          "execution_count": 19,
          "metadata": {},
          "output_type": "execute_result"
        }
      ],
      "source": [
        "l=[0,1,2,3,4,5,6,7]\n",
        "l"
      ]
    },
    {
      "cell_type": "markdown",
      "metadata": {
        "id": "ISxP6Ttnabz7"
      },
      "source": [
        "- удаление эллемента"
      ]
    },
    {
      "cell_type": "code",
      "execution_count": null,
      "metadata": {
        "id": "3j2Itm5Zabz7",
        "outputId": "f97a54ab-0099-44b5-ef59-f1b64df58525"
      },
      "outputs": [
        {
          "data": {
            "text/plain": [
              "[0, 1, 2, 4, 5, 6, 7]"
            ]
          },
          "execution_count": 20,
          "metadata": {},
          "output_type": "execute_result"
        }
      ],
      "source": [
        "del l[3]\n",
        "l"
      ]
    },
    {
      "cell_type": "markdown",
      "metadata": {
        "id": "nfs33kNcabz7"
      },
      "source": [
        "- добавить эллемента в заданную позицию"
      ]
    },
    {
      "cell_type": "code",
      "execution_count": null,
      "metadata": {
        "id": "B_NMaMM-abz7",
        "outputId": "29ad608e-c5a3-447c-907e-0df57fa246a9"
      },
      "outputs": [
        {
          "data": {
            "text/plain": [
              "[0, 1, 2, 0, 4, 5, 6, 7]"
            ]
          },
          "execution_count": 21,
          "metadata": {},
          "output_type": "execute_result"
        }
      ],
      "source": [
        "l.insert(3,0)\n",
        "l"
      ]
    },
    {
      "cell_type": "markdown",
      "metadata": {
        "id": "yVlSJSyIabz8"
      },
      "source": [
        "- добавить эллемента в конец"
      ]
    },
    {
      "cell_type": "code",
      "execution_count": null,
      "metadata": {
        "id": "KTvYf9ejabz8",
        "outputId": "bad6d4da-7d73-4769-f581-2d70c69e5c7c"
      },
      "outputs": [
        {
          "data": {
            "text/plain": [
              "[0, 1, 2, 0, 4, 5, 6, 7, 8]"
            ]
          },
          "execution_count": 22,
          "metadata": {},
          "output_type": "execute_result"
        }
      ],
      "source": [
        "l.append(8)\n",
        "l"
      ]
    },
    {
      "cell_type": "markdown",
      "metadata": {
        "id": "0jGXTs6rabz8"
      },
      "source": [
        "- добавить несколько эллементов в конец"
      ]
    },
    {
      "cell_type": "code",
      "execution_count": null,
      "metadata": {
        "id": "YQuxxRxqabz8",
        "outputId": "ea34db30-36a6-4bb7-a94a-c74f6794b039"
      },
      "outputs": [
        {
          "name": "stdout",
          "output_type": "stream",
          "text": [
            "[0, 1, 2, 0, 4, 5, 6, 7, 8] <class 'list'> 1745891244616\n",
            "[0, 1, 2, 0, 4, 5, 6, 7, 8, 9, 10, 11] <class 'list'> 1745891244616\n"
          ]
        }
      ],
      "source": [
        "print(l, type(l), id(l))\n",
        "l.extend([9,10,11])\n",
        "print(l, type(l), id(l))"
      ]
    },
    {
      "cell_type": "code",
      "execution_count": null,
      "metadata": {
        "id": "o888A3S3abz8",
        "outputId": "b27007de-d37d-439f-e8ea-e4335b2e3b90"
      },
      "outputs": [
        {
          "name": "stdout",
          "output_type": "stream",
          "text": [
            "[6, 7] <class 'list'> 1745890726536\n",
            "[6, 7, 4] <class 'list'> 1745890726024\n"
          ]
        }
      ],
      "source": [
        "l = [6, 7]\n",
        "print(l, type(l), id(l))\n",
        "l = l + [4]\n",
        "print(l, type(l), id(l))"
      ]
    },
    {
      "cell_type": "markdown",
      "metadata": {
        "id": "UvIKPNOkabz9"
      },
      "source": [
        "# Генераторы списков\n",
        "\n",
        "Можно также воспользоваться генераторами списков:"
      ]
    },
    {
      "cell_type": "code",
      "execution_count": null,
      "metadata": {
        "id": "GVnxfFNrabz9",
        "outputId": "2d43c642-460c-4251-8cd5-dfe8c364cda6"
      },
      "outputs": [
        {
          "data": {
            "text/plain": [
              "[0, 1, 2, 3, 4, 5, 6, 7, 8, 9]"
            ]
          },
          "execution_count": 11,
          "metadata": {},
          "output_type": "execute_result"
        }
      ],
      "source": [
        "x = [i for i in range(10)]\n",
        "x"
      ]
    },
    {
      "cell_type": "markdown",
      "metadata": {
        "id": "4j_9HUHaabz9"
      },
      "source": [
        "Генераторы списков могут иметь сложную структуру — например, состоять из нескольких вложенных циклов for и (или) содержать оператор ветвления if после цикла. Для примера получим четные элементы списка и умножим их на 10:"
      ]
    },
    {
      "cell_type": "code",
      "execution_count": null,
      "metadata": {
        "id": "tcZtjhokabz9",
        "outputId": "d2a18a62-fb58-4b1a-f8fd-eb4fe291008e"
      },
      "outputs": [
        {
          "name": "stdout",
          "output_type": "stream",
          "text": [
            "[0, 20, 40, 60, 80]\n"
          ]
        }
      ],
      "source": [
        "x2 = [ i*10 for i in x if i%2 == 0 ]\n",
        "print(x2)"
      ]
    },
    {
      "cell_type": "markdown",
      "metadata": {
        "id": "txP_jhCaabz9"
      },
      "source": [
        "Этот код эквивалентен коду:"
      ]
    },
    {
      "cell_type": "code",
      "execution_count": null,
      "metadata": {
        "id": "XIG5wGnDabz-",
        "outputId": "3a43deca-d568-4c3c-cd5e-8cc97115023c"
      },
      "outputs": [
        {
          "name": "stdout",
          "output_type": "stream",
          "text": [
            "[0, 20, 40, 60, 80]\n"
          ]
        }
      ],
      "source": [
        "x2 = []\n",
        "for i in x:\n",
        "    if i % 2 == 0: \n",
        "        x2.append(i*10) \n",
        "print(x2)"
      ]
    },
    {
      "cell_type": "markdown",
      "metadata": {
        "id": "9gNhJpS8abz-"
      },
      "source": [
        "# Копирование списков\n",
        "\n",
        "Операция копирования для листов, имеет особенности"
      ]
    },
    {
      "cell_type": "code",
      "execution_count": null,
      "metadata": {
        "id": "vUjJOTRGabz-",
        "outputId": "84cc274e-f3c1-42fc-d14f-13a8de78b897"
      },
      "outputs": [
        {
          "name": "stdout",
          "output_type": "stream",
          "text": [
            "2425413357064 2425413357064\n"
          ]
        }
      ],
      "source": [
        "y = x # это не копирование!!!\n",
        "print(id(x), id(y))"
      ]
    },
    {
      "cell_type": "markdown",
      "metadata": {
        "id": "zUwXeeUmabz-"
      },
      "source": [
        "Правильное копирование:"
      ]
    },
    {
      "cell_type": "code",
      "execution_count": null,
      "metadata": {
        "id": "AuXxlv_fabz-",
        "outputId": "5a445694-9a7c-42a1-e139-3c1594f82595"
      },
      "outputs": [
        {
          "name": "stdout",
          "output_type": "stream",
          "text": [
            "[0, 1, 2, 3, 4, 5, 6, 7, 8, 9] 2425413349128\n",
            "[0, 1, 2, 3, 4, 5, 6, 7, 8, 9] 2425413247688\n",
            "[0, 1, 2, 3, 4, 5, 6, 7, 8, 9] 2425413354888\n"
          ]
        }
      ],
      "source": [
        "y1 = list(x)\n",
        "y2 = x.copy()\n",
        "y3 = x[:]\n",
        "\n",
        "print(y1, id(y1))\n",
        "print(y2, id(y2))\n",
        "print(y3, id(y3))"
      ]
    },
    {
      "cell_type": "markdown",
      "metadata": {
        "id": "EuNKttMXabz_"
      },
      "source": [
        "Объединение листов:"
      ]
    },
    {
      "cell_type": "code",
      "execution_count": null,
      "metadata": {
        "id": "n8lXPcdUabz_",
        "outputId": "db548beb-0fc6-4134-b423-d607789ce2d5"
      },
      "outputs": [
        {
          "name": "stdout",
          "output_type": "stream",
          "text": [
            "[0, 1, 8, 9] <class 'list'> 2425413318088\n"
          ]
        }
      ],
      "source": [
        "x = x[:2] + x[-2:]\n",
        "print(x, type(x), id(x))"
      ]
    },
    {
      "cell_type": "markdown",
      "metadata": {
        "id": "v1gI6TCtabz_"
      },
      "source": [
        "# Кортеж\n",
        "\n",
        "Кортеж в Python - это упорядоченный набор объектов, в который могут одновременно входить объекты разных типов (числа, строки и другие структуры).\n",
        "\n",
        "Его эллементы доступны по индексу начинающегося с 0. Кортеж является не изменяемым типом данных - его эллемнты нельзя менять.\n",
        "\n",
        "Кортеж задаётся перечислением его элементов в круглых скобках через запятую или с помощью функции tuple(), например"
      ]
    },
    {
      "cell_type": "code",
      "execution_count": null,
      "metadata": {
        "id": "K0KgYdMlabz_",
        "outputId": "1c85b75b-d20a-4209-ed99-7083f071d6ab"
      },
      "outputs": [
        {
          "name": "stdout",
          "output_type": "stream",
          "text": [
            "1 2.0 3 [4, 5]\n"
          ]
        }
      ],
      "source": [
        "Tuple = (1, 2.0, '3', [4, 5])\n",
        "print(Tuple[0],Tuple[1],Tuple[2],Tuple[3])"
      ]
    },
    {
      "cell_type": "code",
      "execution_count": null,
      "metadata": {
        "id": "n5H5VJSxab0A",
        "outputId": "7dfb4dd2-6e76-45d7-95d6-80d0f4e4e6ef"
      },
      "outputs": [
        {
          "ename": "TypeError",
          "evalue": "'tuple' object does not support item assignment",
          "output_type": "error",
          "traceback": [
            "\u001b[1;31m---------------------------------------------------------------------------\u001b[0m",
            "\u001b[1;31mTypeError\u001b[0m                                 Traceback (most recent call last)",
            "\u001b[1;32m<ipython-input-14-4daf37eb5949>\u001b[0m in \u001b[0;36m<module>\u001b[1;34m\u001b[0m\n\u001b[1;32m----> 1\u001b[1;33m \u001b[0mTuple\u001b[0m\u001b[1;33m[\u001b[0m\u001b[1;36m2\u001b[0m\u001b[1;33m]\u001b[0m \u001b[1;33m=\u001b[0m \u001b[1;34m'three'\u001b[0m\u001b[1;33m\u001b[0m\u001b[1;33m\u001b[0m\u001b[0m\n\u001b[0m\u001b[0;32m      2\u001b[0m \u001b[0mprint\u001b[0m\u001b[1;33m(\u001b[0m\u001b[0mTuple\u001b[0m\u001b[1;33m[\u001b[0m\u001b[1;36m0\u001b[0m\u001b[1;33m]\u001b[0m\u001b[1;33m,\u001b[0m\u001b[0mTuple\u001b[0m\u001b[1;33m[\u001b[0m\u001b[1;36m1\u001b[0m\u001b[1;33m]\u001b[0m\u001b[1;33m,\u001b[0m\u001b[0mTuple\u001b[0m\u001b[1;33m[\u001b[0m\u001b[1;36m2\u001b[0m\u001b[1;33m]\u001b[0m\u001b[1;33m,\u001b[0m\u001b[0mTuple\u001b[0m\u001b[1;33m[\u001b[0m\u001b[1;36m3\u001b[0m\u001b[1;33m]\u001b[0m\u001b[1;33m)\u001b[0m\u001b[1;33m\u001b[0m\u001b[1;33m\u001b[0m\u001b[0m\n",
            "\u001b[1;31mTypeError\u001b[0m: 'tuple' object does not support item assignment"
          ]
        }
      ],
      "source": [
        "Tuple[2] = 'three'\n",
        "print(Tuple[0],Tuple[1],Tuple[2],Tuple[3])"
      ]
    },
    {
      "cell_type": "code",
      "execution_count": null,
      "metadata": {
        "id": "vfXDn7SDab0D",
        "outputId": "2bc0e5b1-bc10-4e17-eae8-168c62183055"
      },
      "outputs": [
        {
          "data": {
            "text/plain": [
              "[4, 5]"
            ]
          },
          "execution_count": 16,
          "metadata": {},
          "output_type": "execute_result"
        }
      ],
      "source": [
        "Tuple[3]"
      ]
    },
    {
      "cell_type": "code",
      "execution_count": null,
      "metadata": {
        "id": "tqrN3khZab0E",
        "outputId": "d7242f92-f344-45d0-9a50-e9a9e4024519"
      },
      "outputs": [
        {
          "ename": "TypeError",
          "evalue": "'tuple' object does not support item assignment",
          "output_type": "error",
          "traceback": [
            "\u001b[1;31m---------------------------------------------------------------------------\u001b[0m",
            "\u001b[1;31mTypeError\u001b[0m                                 Traceback (most recent call last)",
            "\u001b[1;32m<ipython-input-17-e4747f4293d8>\u001b[0m in \u001b[0;36m<module>\u001b[1;34m\u001b[0m\n\u001b[1;32m----> 1\u001b[1;33m \u001b[0mTuple\u001b[0m\u001b[1;33m[\u001b[0m\u001b[1;36m3\u001b[0m\u001b[1;33m]\u001b[0m \u001b[1;33m=\u001b[0m \u001b[1;33m[\u001b[0m\u001b[1;36m1\u001b[0m\u001b[1;33m,\u001b[0m \u001b[1;36m2\u001b[0m\u001b[1;33m]\u001b[0m\u001b[1;33m\u001b[0m\u001b[1;33m\u001b[0m\u001b[0m\n\u001b[0m\u001b[0;32m      2\u001b[0m \u001b[0mTuple\u001b[0m\u001b[1;33m[\u001b[0m\u001b[1;36m3\u001b[0m\u001b[1;33m]\u001b[0m\u001b[1;33m\u001b[0m\u001b[1;33m\u001b[0m\u001b[0m\n",
            "\u001b[1;31mTypeError\u001b[0m: 'tuple' object does not support item assignment"
          ]
        }
      ],
      "source": [
        "Tuple[3] = [1, 2]\n",
        "Tuple[3]"
      ]
    },
    {
      "cell_type": "code",
      "execution_count": null,
      "metadata": {
        "id": "NJ6gB-PEab0E",
        "outputId": "26bf34d7-4d43-473a-dac5-2de6288d5400"
      },
      "outputs": [
        {
          "data": {
            "text/plain": [
              "4"
            ]
          },
          "execution_count": 18,
          "metadata": {},
          "output_type": "execute_result"
        }
      ],
      "source": [
        "Tuple[3][0]"
      ]
    },
    {
      "cell_type": "code",
      "execution_count": null,
      "metadata": {
        "id": "NWRjvw79ab0E",
        "outputId": "04e61eec-49dd-4c07-f4d7-160e57193419"
      },
      "outputs": [
        {
          "data": {
            "text/plain": [
              "-4"
            ]
          },
          "execution_count": 19,
          "metadata": {},
          "output_type": "execute_result"
        }
      ],
      "source": [
        "Tuple[3][0]=-4\n",
        "Tuple[3][0]"
      ]
    },
    {
      "cell_type": "markdown",
      "metadata": {
        "id": "2HNhh9Alab0E"
      },
      "source": [
        "# Множества\n",
        "\n",
        "Множества в Python - это упорядоченный набор объектов, в который могут одновременно входить объекты разных типов (числа, строки и другие структуры). В отличии от списков и картежей, множество не итерируется по индуксу."
      ]
    },
    {
      "cell_type": "code",
      "execution_count": null,
      "metadata": {
        "id": "dwN-HP1Dab0F",
        "outputId": "5f84ac42-fc41-4587-9c1f-751296bfcc68"
      },
      "outputs": [
        {
          "data": {
            "text/plain": [
              "{1, 2.0, 3, '3', 4}"
            ]
          },
          "execution_count": 30,
          "metadata": {},
          "output_type": "execute_result"
        }
      ],
      "source": [
        "Set = set([2.0000000000000001, 1, 2, 1, '3', 4, 3])\n",
        "Set"
      ]
    },
    {
      "cell_type": "code",
      "execution_count": null,
      "metadata": {
        "id": "MJWlnwhyab0F",
        "outputId": "3d0b211e-f67e-482c-8814-2142b3d4dee1"
      },
      "outputs": [
        {
          "data": {
            "text/plain": [
              "{-1, 1, 2.0, 3, '3', 4}"
            ]
          },
          "execution_count": 31,
          "metadata": {},
          "output_type": "execute_result"
        }
      ],
      "source": [
        "Set.add(-1)\n",
        "Set"
      ]
    },
    {
      "cell_type": "markdown",
      "metadata": {
        "id": "odMoArewab0F"
      },
      "source": [
        "Почему пропала одна 1?\n",
        "\n",
        "Вероятно, наиболее важной операцией с множеством является операция праверки принадлежности, и для неё нужно знать только уникальные эллементы множества. По этой же причине отсутствует возможность обращаться к эллементам по индексу."
      ]
    },
    {
      "cell_type": "code",
      "execution_count": null,
      "metadata": {
        "id": "km2rVxxjab0F",
        "outputId": "b2119b6c-457c-40d4-c8d7-ba691ccaf04c"
      },
      "outputs": [
        {
          "name": "stdout",
          "output_type": "stream",
          "text": [
            "принадлежит множеству\n"
          ]
        }
      ],
      "source": [
        "x = 1\n",
        "\n",
        "if x in Set:\n",
        "    print('принадлежит множеству')\n",
        "else:\n",
        "    print('не принадлежит множеству')"
      ]
    },
    {
      "cell_type": "code",
      "execution_count": null,
      "metadata": {
        "id": "b2-4pmwIab0F",
        "outputId": "f18ca936-49a2-49f7-853e-4babdfaa442b"
      },
      "outputs": [
        {
          "data": {
            "text/plain": [
              "['__and__',\n",
              " '__class__',\n",
              " '__contains__',\n",
              " '__delattr__',\n",
              " '__dir__',\n",
              " '__doc__',\n",
              " '__eq__',\n",
              " '__format__',\n",
              " '__ge__',\n",
              " '__getattribute__',\n",
              " '__gt__',\n",
              " '__hash__',\n",
              " '__iand__',\n",
              " '__init__',\n",
              " '__init_subclass__',\n",
              " '__ior__',\n",
              " '__isub__',\n",
              " '__iter__',\n",
              " '__ixor__',\n",
              " '__le__',\n",
              " '__len__',\n",
              " '__lt__',\n",
              " '__ne__',\n",
              " '__new__',\n",
              " '__or__',\n",
              " '__rand__',\n",
              " '__reduce__',\n",
              " '__reduce_ex__',\n",
              " '__repr__',\n",
              " '__ror__',\n",
              " '__rsub__',\n",
              " '__rxor__',\n",
              " '__setattr__',\n",
              " '__sizeof__',\n",
              " '__str__',\n",
              " '__sub__',\n",
              " '__subclasshook__',\n",
              " '__xor__',\n",
              " 'add',\n",
              " 'clear',\n",
              " 'copy',\n",
              " 'difference',\n",
              " 'difference_update',\n",
              " 'discard',\n",
              " 'intersection',\n",
              " 'intersection_update',\n",
              " 'isdisjoint',\n",
              " 'issubset',\n",
              " 'issuperset',\n",
              " 'pop',\n",
              " 'remove',\n",
              " 'symmetric_difference',\n",
              " 'symmetric_difference_update',\n",
              " 'union',\n",
              " 'update']"
            ]
          },
          "execution_count": 12,
          "metadata": {},
          "output_type": "execute_result"
        }
      ],
      "source": [
        "dir(set)"
      ]
    },
    {
      "cell_type": "code",
      "execution_count": null,
      "metadata": {
        "id": "BuRdTU6_ab0G",
        "outputId": "0a270001-c933-45ca-c4ec-4968a194a129"
      },
      "outputs": [
        {
          "name": "stdout",
          "output_type": "stream",
          "text": [
            "Help on method_descriptor:\n",
            "\n",
            "add(...)\n",
            "    Add an element to a set.\n",
            "    \n",
            "    This has no effect if the element is already present.\n",
            "\n"
          ]
        }
      ],
      "source": [
        "help(set.add)"
      ]
    },
    {
      "cell_type": "markdown",
      "metadata": {
        "id": "XFX7A3dwab0G"
      },
      "source": [
        "# Словари\n",
        "\n",
        "Словарь в Python - структура содержит пары \"ключ\" - \"значение\" (их порядок несущественен). Это одина из наиболее полезных и гибких структур имеющихся в Python. Словари реализованы как хэш-таблицы, так что поиск даже в больших словарях очень эффективен.\n",
        "\n",
        "Например, с помощью словоря можно эмулировать работу оператора множественного выбора аналогичного switch:"
      ]
    },
    {
      "cell_type": "code",
      "execution_count": null,
      "metadata": {
        "id": "ZYI7C926ab0G"
      },
      "outputs": [],
      "source": [
        "def switch_dict(x):\n",
        "    return {\n",
        "        \"a\": 1,\n",
        "        \"b\": 2,\n",
        "        \"c\": 3\n",
        "    }.get(x, -1)"
      ]
    },
    {
      "cell_type": "code",
      "execution_count": null,
      "metadata": {
        "id": "13saiyTVab0G",
        "outputId": "53dc11ca-fd65-4cc8-f267-17e4ac6ed5c2"
      },
      "outputs": [
        {
          "data": {
            "text/plain": [
              "1"
            ]
          },
          "execution_count": 33,
          "metadata": {},
          "output_type": "execute_result"
        }
      ],
      "source": [
        "switch_dict('a')"
      ]
    },
    {
      "cell_type": "code",
      "execution_count": null,
      "metadata": {
        "id": "rAJa5pWrab0G",
        "outputId": "90eeb355-5910-4d89-9f7b-f31f100af02d"
      },
      "outputs": [
        {
          "data": {
            "text/plain": [
              "-1"
            ]
          },
          "execution_count": 34,
          "metadata": {},
          "output_type": "execute_result"
        }
      ],
      "source": [
        "switch_dict('6')"
      ]
    },
    {
      "cell_type": "code",
      "execution_count": null,
      "metadata": {
        "id": "ZLM6ftG9ab0G"
      },
      "outputs": [],
      "source": [
        "ss = {1: \"a\",\"b\": 2,\"c\": 3}"
      ]
    },
    {
      "cell_type": "code",
      "execution_count": null,
      "metadata": {
        "id": "CyvLOq7dab0G",
        "outputId": "9c05d52c-6ee1-4748-9750-0b0ad208c3f3"
      },
      "outputs": [
        {
          "data": {
            "text/plain": [
              "'a'"
            ]
          },
          "execution_count": 37,
          "metadata": {},
          "output_type": "execute_result"
        }
      ],
      "source": [
        "ss[1]"
      ]
    },
    {
      "cell_type": "code",
      "execution_count": null,
      "metadata": {
        "id": "BPrRw1P3ab0G",
        "outputId": "5977fdb1-ccae-4847-f463-489748d70941"
      },
      "outputs": [
        {
          "data": {
            "text/plain": [
              "2"
            ]
          },
          "execution_count": 36,
          "metadata": {},
          "output_type": "execute_result"
        }
      ],
      "source": [
        "ss['b']"
      ]
    },
    {
      "cell_type": "markdown",
      "metadata": {
        "id": "tnbIZhixab0G"
      },
      "source": [
        "# Массивы (numpy)\n",
        "\n",
        "Менее стандартной, но очень полезной является структура массив, объединяющая эллементы одинакового типа."
      ]
    },
    {
      "cell_type": "code",
      "execution_count": null,
      "metadata": {
        "id": "r_Yv-4vrab0H"
      },
      "outputs": [],
      "source": [
        "import numpy as np"
      ]
    },
    {
      "cell_type": "code",
      "execution_count": null,
      "metadata": {
        "id": "Mzoa-p4mab0H",
        "outputId": "8c8ca579-f445-4c49-e924-3c481e666bf1"
      },
      "outputs": [
        {
          "data": {
            "text/plain": [
              "array([[1, 2],\n",
              "       [3, 4]])"
            ]
          },
          "execution_count": 39,
          "metadata": {},
          "output_type": "execute_result"
        }
      ],
      "source": [
        "A = np.array([[1,2],[3,4]])\n",
        "A"
      ]
    },
    {
      "cell_type": "markdown",
      "metadata": {
        "id": "Ys2rfi67ab0H"
      },
      "source": [
        "Очень часто возникает задача создания массива определенного размера, причем чем заполнен массив абсолютно неважно. В этом случае можно воспользоваться циклами или генераторами списков (кортежей), но NumPy для таких случаев предлагает более быстрые и менее затратные функции-заполнители.\n",
        "\n",
        "Полезными оказываются следующие функции (по умолчанию, тип создаваемого массива - float64.):\n",
        "\n",
        "- zeros() - заполняет массив нулями, "
      ]
    },
    {
      "cell_type": "code",
      "execution_count": null,
      "metadata": {
        "id": "Ph1AGBrYab0H",
        "outputId": "687bc298-c6ab-4c22-d586-ab0f952bb8ce"
      },
      "outputs": [
        {
          "data": {
            "text/plain": [
              "array([[0., 0., 0.],\n",
              "       [0., 0., 0.],\n",
              "       [0., 0., 0.]])"
            ]
          },
          "execution_count": 40,
          "metadata": {},
          "output_type": "execute_result"
        }
      ],
      "source": [
        "np.zeros((3,3))"
      ]
    },
    {
      "cell_type": "code",
      "execution_count": null,
      "metadata": {
        "id": "pA2iDn1kab0I",
        "outputId": "09579b07-8a6b-4f34-f0e6-f667a0f8fe89"
      },
      "outputs": [
        {
          "data": {
            "text/plain": [
              "array([0., 0., 0.])"
            ]
          },
          "execution_count": 41,
          "metadata": {},
          "output_type": "execute_result"
        }
      ],
      "source": [
        "np.zeros(3)"
      ]
    },
    {
      "cell_type": "markdown",
      "metadata": {
        "id": "LbVUeym4ab0I"
      },
      "source": [
        "- eye() - создаёт единичную матрицу, "
      ]
    },
    {
      "cell_type": "code",
      "execution_count": null,
      "metadata": {
        "id": "oA_bf_5Zab0I",
        "outputId": "4c9cc046-4e55-4015-97b7-eaada53d9663"
      },
      "outputs": [
        {
          "data": {
            "text/plain": [
              "array([[1., 0., 0.],\n",
              "       [0., 1., 0.],\n",
              "       [0., 0., 1.]])"
            ]
          },
          "execution_count": 42,
          "metadata": {},
          "output_type": "execute_result"
        }
      ],
      "source": [
        "np.eye(3)"
      ]
    },
    {
      "cell_type": "markdown",
      "metadata": {
        "id": "3cUNIPGSab0I"
      },
      "source": [
        "- empty - заполняет матрицу случайными числами, которые зависят от состояния памяти. "
      ]
    },
    {
      "cell_type": "code",
      "execution_count": null,
      "metadata": {
        "id": "E7QxHPeFab0I",
        "outputId": "36c52a41-4c66-4c32-b9e9-88c94bdbed71"
      },
      "outputs": [
        {
          "data": {
            "text/plain": [
              "array([[1., 0., 0.],\n",
              "       [0., 1., 0.],\n",
              "       [0., 0., 1.]])"
            ]
          },
          "execution_count": 43,
          "metadata": {},
          "output_type": "execute_result"
        }
      ],
      "source": [
        "np.empty([3, 3])"
      ]
    },
    {
      "cell_type": "markdown",
      "metadata": {
        "id": "kiX9z9aBab0I"
      },
      "source": [
        "Для создания последовательностей чисел NumPy предоставляет функции arange() и linspace(), которая возвращает одномерные массивы:"
      ]
    },
    {
      "cell_type": "markdown",
      "metadata": {
        "id": "AWm3gLdMab0I"
      },
      "source": [
        "- np.arange(From, To, Step) - построить массив чисел от From (включая) до To (не включая) с шагом Step:"
      ]
    },
    {
      "cell_type": "code",
      "execution_count": null,
      "metadata": {
        "id": "tDkwipUKab0I",
        "outputId": "6b5729e9-d183-4488-b528-3a581fd642b8"
      },
      "outputs": [
        {
          "data": {
            "text/plain": [
              "array([0, 1, 2, 3, 4, 5, 6, 7, 8, 9])"
            ]
          },
          "execution_count": 44,
          "metadata": {},
          "output_type": "execute_result"
        }
      ],
      "source": [
        "np.arange(10)   #  От 0 до указанного числа с шагом 1"
      ]
    },
    {
      "cell_type": "code",
      "execution_count": null,
      "metadata": {
        "id": "2cvraG9Xab0J",
        "outputId": "50ab314b-3dc6-4e3c-adbb-1eae41682fec"
      },
      "outputs": [
        {
          "data": {
            "text/plain": [
              "array([10, 11, 12, 13, 14, 15, 16, 17, 18, 19])"
            ]
          },
          "execution_count": 45,
          "metadata": {},
          "output_type": "execute_result"
        }
      ],
      "source": [
        "np.arange(10, 20)    #  От 10 до 20 с шагом 1"
      ]
    },
    {
      "cell_type": "code",
      "execution_count": null,
      "metadata": {
        "id": "8Uu02LpDab0J",
        "outputId": "49d28518-ab55-4d84-f781-3d46100b27ea"
      },
      "outputs": [
        {
          "data": {
            "text/plain": [
              "array([10, 20, 30, 40, 50, 60, 70, 80, 90])"
            ]
          },
          "execution_count": 46,
          "metadata": {},
          "output_type": "execute_result"
        }
      ],
      "source": [
        "np.arange(10, 100, 10)    #  Диапазон с заданным шагом"
      ]
    },
    {
      "cell_type": "code",
      "execution_count": null,
      "metadata": {
        "id": "T6NlF8z9ab0J",
        "outputId": "4d2fd283-da8e-4364-b4f8-c1026686b63c"
      },
      "outputs": [
        {
          "data": {
            "text/plain": [
              "array([0. , 0.1, 0.2, 0.3, 0.4, 0.5, 0.6, 0.7, 0.8, 0.9])"
            ]
          },
          "execution_count": 47,
          "metadata": {},
          "output_type": "execute_result"
        }
      ],
      "source": [
        "np.arange(0, 1, 0.1)    #  Аргументы могут иметь тип float"
      ]
    },
    {
      "cell_type": "markdown",
      "metadata": {
        "id": "lYPV4H52ab0J"
      },
      "source": [
        "- np.linspace(From, To, Num) - построить массив чисел от From (включая) до To (включая) с колличеством эллементов Num:"
      ]
    },
    {
      "cell_type": "code",
      "execution_count": null,
      "metadata": {
        "id": "OXJNhpNDab0J",
        "outputId": "7d5fd1bc-b30e-4f05-d3db-1cb0ee9ab45a"
      },
      "outputs": [
        {
          "data": {
            "text/plain": [
              "array([0.  , 0.25, 0.5 , 0.75, 1.  ])"
            ]
          },
          "execution_count": 123,
          "metadata": {},
          "output_type": "execute_result"
        }
      ],
      "source": [
        "np.linspace(0, 1, 5)"
      ]
    },
    {
      "cell_type": "code",
      "execution_count": null,
      "metadata": {
        "id": "SXZZ-r1Cab0K",
        "outputId": "44c7d8bd-f820-43ea-9f5d-327ccc842dc5"
      },
      "outputs": [
        {
          "data": {
            "text/plain": [
              "array([[1, 2],\n",
              "       [3, 4]])"
            ]
          },
          "execution_count": 2,
          "metadata": {},
          "output_type": "execute_result"
        }
      ],
      "source": [
        "A = np.array([[1,2],[3,4]])\n",
        "A"
      ]
    },
    {
      "cell_type": "code",
      "execution_count": null,
      "metadata": {
        "id": "R9xEmWrrab0K"
      },
      "outputs": [],
      "source": [
        "A[0,0] = 5.1"
      ]
    },
    {
      "cell_type": "code",
      "execution_count": null,
      "metadata": {
        "id": "hqgbTj7Lab0K"
      },
      "outputs": [],
      "source": [
        "A = A/2"
      ]
    },
    {
      "cell_type": "code",
      "execution_count": null,
      "metadata": {
        "id": "1IB7ggOxab0K",
        "outputId": "87feb211-c3b5-452f-9491-a8e2744edbcc"
      },
      "outputs": [
        {
          "data": {
            "text/plain": [
              "array([[2.5, 1. ],\n",
              "       [1.5, 2. ]])"
            ]
          },
          "execution_count": 6,
          "metadata": {},
          "output_type": "execute_result"
        }
      ],
      "source": [
        "A"
      ]
    },
    {
      "cell_type": "markdown",
      "metadata": {
        "id": "Zdzqvc3Fab0L"
      },
      "source": [
        "# Упражнение 1.\n",
        "\n",
        "С клавиатуры (неограниченное количество раз) вводится некоторая последовательность значений, необходимо сохранить только уникальные символы (цифры и буквы). И после окончания ввода вывести сохранённые символы."
      ]
    },
    {
      "cell_type": "code",
      "execution_count": null,
      "metadata": {
        "id": "DWVfkuDcab0L"
      },
      "outputs": [],
      "source": [
        "flag = True\n",
        "i = 1\n",
        "while flag:\n",
        "  x = input('Введите значение ')\n",
        "  if x == '0':\n",
        "    flag = False\n",
        "  else:\n",
        "    if i == 1:\n",
        "     a = set(x)\n",
        "    else:\n",
        "     a.add(x)\n",
        "  i += 1\n",
        "  print(a)"
      ]
    },
    {
      "cell_type": "markdown",
      "metadata": {
        "id": "WVknQ4pmab0L"
      },
      "source": [
        "# Упражнение 2. Эффективный размер массива (стек).\n",
        "\n",
        "Стек, дека, очередь. Массив с дополнительными параметрами (размер выделенной памяти и объём занятой памяти). Позволяют за константное время добавлять и убирать элементы в начало и конец эффективного размера массива.\n",
        "\n",
        "Напишите функцию которая реализует работу стека: \n",
        "1. внутри определён массив numpy заданного размера и целочисленный параметр фиксирующий степень заполненности массива;\n",
        "2. функция принимает значение x и индиксатор действия (0 - чтение из стека, 1 - запись в стек); в случае чтения возвращает значение из конца массива или False, если стек пуст; при записи возвращает логическую переменную индикатор успешности операции;\n",
        "3. при операциях чтения и записи должна проверяться корректность этого действия связанная с размерами стека."
      ]
    },
    {
      "cell_type": "code",
      "source": [
        "import numpy as np \n",
        "n = 100\n",
        "I = 0\n",
        "stack = np.zeros(n)\n",
        "def Stack(x,y):\n",
        "  global stack, n , I\n",
        "  if y == 0:\n",
        "    if I == 0:\n",
        "      return False \n",
        "    else:\n",
        "      return stack[I-1]\n",
        "  elif I < n-1:\n",
        "    stack[I] = x\n",
        "    I += 1\n",
        "    return True\n",
        "  else:\n",
        "    return False"
      ],
      "metadata": {
        "id": "wPbq4K85O7w6"
      },
      "execution_count": 1,
      "outputs": []
    },
    {
      "cell_type": "markdown",
      "metadata": {
        "id": "nIVxak-tab0L"
      },
      "source": [
        "# Упражнение 3. Эффективный размер массива (множество).\n",
        "\n",
        "Как мы уже поняли, множество в Python это совокупность уникальных объектов не доступных по индексу. Адаптируйте предыдущую программу к работе в таком режиме.\n",
        "\n",
        "Т.е.: \n",
        "1. дописываться могут только значения не записанные ранее;\n",
        "2. функция принимает одно значение x (True - вывод всего множества, числовое значение - запись в множество); в случае если множество пусто возвращается False; при записи возвращает логическую переменную индикатор успешности операции;\n",
        "3. при операциях чтения и записи должна проверяться корректность этого действия связанная с размерами множества.\n",
        "\n",
        "P.S. Попробуйте реализовать пункт с выводом значений по возрастанию через работу с дополнительным массивом индексов (перестановок). Или начиная запись в множество с середины массива..."
      ]
    },
    {
      "cell_type": "code",
      "execution_count": 3,
      "metadata": {
        "id": "s5w_eJYoab0M"
      },
      "outputs": [],
      "source": [
        "arr = np.zeros (n)"
      ]
    },
    {
      "cell_type": "code",
      "source": [
        "import numpy as np\n",
        "n = 3\n",
        "arr = np.zeros(n)\n",
        "i = -1\n",
        "def stack1(x=True):\n",
        "  global arr , i\n",
        "  if x == True:\n",
        "    if i == -1:\n",
        "      return (False)\n",
        "    else:\n",
        "      return (arr)\n",
        "  elif i < n-1:\n",
        "    if x not in arr:\n",
        "      arr[i] = x\n",
        "      print(arr)\n",
        "      i += 1\n",
        "      return (True)\n",
        "    else:\n",
        "      print('Такой элемент уже входит в массив arr')\n",
        "  else: \n",
        "    print('Массив arr полностью заполнен')"
      ],
      "metadata": {
        "id": "69FMgrpnPFi6"
      },
      "execution_count": 2,
      "outputs": []
    },
    {
      "cell_type": "markdown",
      "metadata": {
        "id": "0LUhTfMrab0M"
      },
      "source": [
        "# Функции для итерируемых объектов.\n",
        "\n",
        "Наиболее полезными для итерируем объектов являются функции:\n",
        "- map() - позволяет применить заданную функцию к каждому элементу последовательности, возвращает объект, поддерживающий итерации,\n",
        "- zip() - возвращает кортеж, содержащий элементы последовательностей расположенных на одинаковом смещении,\n",
        "- filter() - позволяет выполнить проверку элементов последовательности."
      ]
    },
    {
      "cell_type": "code",
      "execution_count": null,
      "metadata": {
        "id": "Fo7LtPEGab0M",
        "outputId": "00ac9b9f-6e77-482c-ead7-8c6ecea693c3"
      },
      "outputs": [
        {
          "name": "stdout",
          "output_type": "stream",
          "text": [
            "[11, 12, 13, 14, 15]\n"
          ]
        }
      ],
      "source": [
        "def fun(elem):\n",
        "    return elem + 10 \n",
        "\n",
        "arr = [1, 2, 3, 4, 5]\n",
        "print(list(map(fun, arr)))"
      ]
    },
    {
      "cell_type": "code",
      "execution_count": null,
      "metadata": {
        "id": "pVfw6Gd-ab0M",
        "outputId": "7d3e6c14-0d9c-4dbd-c16f-a355e3198c45"
      },
      "outputs": [
        {
          "data": {
            "text/plain": [
              "[(1, 4, 7), (2, 5, 8), (3, 6, 9)]"
            ]
          },
          "execution_count": 63,
          "metadata": {},
          "output_type": "execute_result"
        }
      ],
      "source": [
        "list(zip([ 1, 2, 3], [4, 5, 6], [7, 8, 9]))"
      ]
    },
    {
      "cell_type": "code",
      "execution_count": null,
      "metadata": {
        "id": "thVSCeDhab0M",
        "outputId": "db355e4d-6401-409e-e2b3-881fe9c831da"
      },
      "outputs": [
        {
          "name": "stdout",
          "output_type": "stream",
          "text": [
            "[111, 222, 333, 444, 555]\n"
          ]
        }
      ],
      "source": [
        "arrl = [1, 2, 3, 4, 5]\n",
        "arr2 = [10, 20, 30, 40, 50]\n",
        "arrЗ = [100, 200, 300, 400, 500]\n",
        "\n",
        "arr = [х + у + z for (х, у, z) in zip(arrl, arr2, arrЗ)]\n",
        "print(arr)"
      ]
    },
    {
      "cell_type": "markdown",
      "metadata": {
        "id": "YtUh9MJoab0M"
      },
      "source": [
        "или что тоже самое"
      ]
    },
    {
      "cell_type": "code",
      "execution_count": null,
      "metadata": {
        "id": "WktoyoSWab0M",
        "outputId": "8529da9e-1667-49e5-f9f7-3a6e649bd97d"
      },
      "outputs": [
        {
          "name": "stdout",
          "output_type": "stream",
          "text": [
            "[111, 222, 333, 444, 555]\n"
          ]
        }
      ],
      "source": [
        "def fun(a,b,c):\n",
        "    return a+b+c \n",
        "\n",
        "print(list(map(fun, arrl, arr2, arrЗ)))"
      ]
    },
    {
      "cell_type": "code",
      "execution_count": null,
      "metadata": {
        "id": "cNkae3C0ab0N",
        "outputId": "94b11a9b-687b-41a7-e1a8-c55318426386"
      },
      "outputs": [
        {
          "data": {
            "text/plain": [
              "[222, 444]"
            ]
          },
          "execution_count": 69,
          "metadata": {},
          "output_type": "execute_result"
        }
      ],
      "source": [
        "def fun(elem):\n",
        "    return elem % 2 == 0\n",
        "\n",
        "list(filter(fun, arr))"
      ]
    },
    {
      "cell_type": "markdown",
      "metadata": {
        "id": "DQTFtmzYab0N"
      },
      "source": [
        "# Генераторы словарей"
      ]
    },
    {
      "cell_type": "code",
      "execution_count": null,
      "metadata": {
        "id": "56L1Girzab0N",
        "outputId": "6ed3f794-4f5f-4423-dbbd-a7d63f16db12"
      },
      "outputs": [
        {
          "data": {
            "text/plain": [
              "{'а': 1, 'Ь': 2, 'c': 3}"
            ]
          },
          "execution_count": 72,
          "metadata": {},
          "output_type": "execute_result"
        }
      ],
      "source": [
        "keys = [\"а\", \"Ь\", \"c\"]\n",
        "values = [1, 2, 3] \n",
        "dict_kv = {k: v for (k, v) in zip(keys, values)}\n",
        "dict_kv"
      ]
    },
    {
      "cell_type": "markdown",
      "metadata": {
        "id": "hxjgzeyFab0O"
      },
      "source": [
        "# Упражнение 4.\n",
        "\n",
        "Создайте функцию принимающую двумерную таблицу, работающую со всеми возможными итерируемыми типами данных подходящими для её хранения (лист, словарь, картеж, массив и т.д.). Функция должна выполнять вывод строк этой таблици в случайном порядке. \n",
        "\n",
        "Насколько сложно было бы сделать аналогичный вывод для столбцов?"
      ]
    },
    {
      "cell_type": "code",
      "execution_count": 4,
      "metadata": {
        "id": "bFiQKHkfab0O",
        "colab": {
          "base_uri": "https://localhost:8080/"
        },
        "outputId": "4b2f3e18-1e6d-4ddc-f2e9-aeb24b62834c"
      },
      "outputs": [
        {
          "output_type": "stream",
          "name": "stdout",
          "text": [
            "([4, 5, 6], [1, 2, 3])\n",
            "([4, 5, 6], [1, 2, 3])\n",
            "([1, 2, 3], [4, 5, 6])\n",
            "([4, 5, 6], [1, 2, 3])\n"
          ]
        }
      ],
      "source": [
        "import random\n",
        "import numpy\n",
        "def tb(table):\n",
        "    result = [0, 0]\n",
        "    if type(table) is dict:\n",
        "        result[0] = [x for x in table.keys()]\n",
        "        result[1] = [x for x in table.values()]\n",
        "    else:\n",
        "        result[0] = [x for x in table[0]]\n",
        "        result[1] = [x for x in table[1]]\n",
        "    startLine = random.randint(0, 1)\n",
        "    return result[startLine], result[not(startLine)]\n",
        "    \n",
        "print(tb({1:4, 2:5, 3:6}))\n",
        "print(tb([[1,2,3], [4,5,6]]))\n",
        "print(tb(tuple([[1,2,3], [4,5,6]])))\n",
        "print(tb(numpy.array([[1,2,3], [4,5,6]])))"
      ]
    },
    {
      "cell_type": "markdown",
      "metadata": {
        "id": "wGO5AlMtab0O"
      },
      "source": [
        "# Домашнее задание (базовое):"
      ]
    },
    {
      "cell_type": "markdown",
      "metadata": {
        "id": "RQCSVy7Aab0O"
      },
      "source": [
        "# Задание 1.\n",
        "\n",
        "С клавиатуры вводится строка, включающая строчные и прописные буквы. Требуется вывести ту же строку в изменённом регистре, тип регистра зависит от того, каких букв больше. При равном количестве букв в заглавном и проптсном регистре - выводится оригинальная строка. \n",
        "\n",
        "Например, вводится строка \"HeLLo World\", она должна быть преобразована в \"hello world\", потому что в исходной строке малых букв больше. \n",
        "\n",
        "В программе можно использовать строковые методы: upper() (преобразование к верхнему регистру) и lower() (преобразование к нижнему регистру), isupper() и islower() (проверяющие регистр строки или символа)."
      ]
    },
    {
      "cell_type": "code",
      "execution_count": null,
      "metadata": {
        "id": "V6QAEt-Oab0O",
        "colab": {
          "base_uri": "https://localhost:8080/"
        },
        "outputId": "4cbabfa9-c117-4411-cd40-e0fd03117c75"
      },
      "outputs": [
        {
          "output_type": "stream",
          "name": "stdout",
          "text": [
            "HeLLo World\n",
            "hello world\n"
          ]
        }
      ],
      "source": [
        "a=input()\n",
        "b=0\n",
        "c=0\n",
        "for i in a:\n",
        "    if i.isupper() == True:\n",
        "        c += 1\n",
        "    else:\n",
        "        b += 1      \n",
        "if b > c:\n",
        "    print(a.lower())\n",
        "elif b == c:\n",
        "    print(a)\n",
        "else:\n",
        "    print(a.upper())"
      ]
    },
    {
      "cell_type": "markdown",
      "metadata": {
        "id": "AgBmSK6Zab0O"
      },
      "source": [
        "# Задание 2\n",
        "\n",
        "Дано слово \"объектно-ориентированный\". Используя индексацию и срезы составьте из него как можно больше слов \"объект\", \"ориентир\", \"тир\", \"кот\", \"рента\" и тд. Выведите их на экран."
      ]
    },
    {
      "cell_type": "code",
      "execution_count": null,
      "metadata": {
        "id": "1gRJr03oab0O",
        "colab": {
          "base_uri": "https://localhost:8080/"
        },
        "outputId": "82955939-7095-4f3f-e912-fd1f46d7bbf5"
      },
      "outputs": [
        {
          "output_type": "stream",
          "name": "stdout",
          "text": [
            "ориентир\n",
            "объект\n",
            "ракета\n",
            "корова\n",
            "корона\n",
            "новый\n",
            "рота\n",
            "трон\n",
            "нора\n",
            "нота\n",
            "кино\n",
            "борт\n",
            "тон\n",
            "ток\n",
            "рот\n",
            "рок\n",
            "кит\n",
            "ров\n",
            "тир\n",
            "ор\n"
          ]
        }
      ],
      "source": [
        "a=[i for i in \"объектно-ориентированный\"]\n",
        "print(''.join(a[9:17]))\n",
        "print(''.join(a[0:6]))\n",
        "print(''.join([a[10],a[19],a[4],a[3],a[14],a[19]]))\n",
        "print(''.join([a[4],a[9],a[10],a[9],a[18],a[19]]))\n",
        "print(''.join([a[4], a[0],a[10],a[7],a[6],a[19]]))\n",
        "print(''.join([a[20], a[17],a[18],a[22],a[23]]))\n",
        "print(''.join([a[10],a[0],a[5],a[19]]))\n",
        "print(''.join([a[5], a[10], a[9], a[6]]))\n",
        "print(''.join([a[6],a[9], a[10], a[19]]))\n",
        "print(''.join([a[6],a[9], a[5], a[19]]))\n",
        "print(''.join([a[4],a[11], a[13], a[0]]))\n",
        "print(''.join([a[1],a[0], a[10], a[14]]))\n",
        "print(''.join([a[5], a[7],a[6]]))\n",
        "print(''.join([a[5], a[7],a[4]]))\n",
        "print(''.join([a[10],a[0],a[5],]))\n",
        "print(''.join([a[10], a[7],a[4]]))\n",
        "print(''.join([a[4], a[11],a[14]]))\n",
        "print(''.join([a[16], a[17],a[18]]))\n",
        "print(''.join(a[14:17]))\n",
        "print(a[0]+a[16])\n",
        "#['о', 'б', 'ъ', 'е', 'к', 'т', 'н', 'о', '-', 'о', 'р', 'и', 'е', 'н', 'т', 'и', 'р', 'о', 'в', 'а', 'н', 'н', 'ы', 'й']\n",
        "#  0    1     2   3    4     5    6    7   8     9   10   11   12   13    14  15   16   17   18  19    20   21   22   23"
      ]
    },
    {
      "cell_type": "markdown",
      "metadata": {
        "id": "le9Vyradab0O"
      },
      "source": [
        "# Задание 3\n",
        "\n",
        "Строковый метод isdigit() проверяет, состоит ли строка только из цифр. Напишите программу, которая запрашивает с ввода целые числа и выводит их сумму. В случае некорректного ввода программа не должна завершаться с ошибкой, а должна продолжать работу, удаляя из введённой строки все символы кроме цифр. При отсутствии цифр запрс пользователю повторяется.\n",
        "\n",
        "Обработчик исключений try-except использовать нельзя."
      ]
    },
    {
      "cell_type": "code",
      "execution_count": null,
      "metadata": {
        "id": "TEroZsn7ab0O",
        "colab": {
          "base_uri": "https://localhost:8080/"
        },
        "outputId": "22bb4a16-717e-445c-f4a4-92af6135e74c"
      },
      "outputs": [
        {
          "output_type": "stream",
          "name": "stdout",
          "text": [
            "126y\n",
            "9\n"
          ]
        }
      ],
      "source": [
        "x = input()\n",
        "if x.isdigit == True:\n",
        "    x = int()\n",
        "    n = len(x) \n",
        "    y = 0\n",
        "    for i in range(n):\n",
        "        y = y + x[i]\n",
        "else:\n",
        "    x =[i for i in x]\n",
        "    y = 0\n",
        "    for i in x:\n",
        "        if 'a' <= i <= 'z' or 'A' <= i <= 'Z' or'а' <= i <= 'я' or 'А' <= i <= 'Я': \n",
        "            y = y + 0\n",
        "        else:\n",
        "            i = int(i)\n",
        "            y = y + i\n",
        "print(y)"
      ]
    },
    {
      "cell_type": "markdown",
      "metadata": {
        "id": "VSe1Rd4aab0P"
      },
      "source": [
        "# Задание 4\n",
        "\n",
        "Создайте словарь, где ключами являются числа, а значениями – строки. Примените к нему метод items(), полученный объект dict_items передайте в написанную вами функцию, которая создает и возвращает новый словарь, \"обратный\" исходному, т. е. ключами являются строки, а значениями – числа. "
      ]
    },
    {
      "cell_type": "code",
      "execution_count": null,
      "metadata": {
        "id": "l2gS86Feab0P",
        "colab": {
          "base_uri": "https://localhost:8080/"
        },
        "outputId": "912852c7-ec96-46d7-e2cc-b742f3baed3c"
      },
      "outputs": [
        {
          "output_type": "stream",
          "name": "stdout",
          "text": [
            "{'aaa': 0, 'bbb': 1, 'ccc': 2, 'abc': 3}\n"
          ]
        }
      ],
      "source": [
        "d={0: \"aaa\", 1: \"bbb\", 2: \"ccc\", 3: \"abc\"}\n",
        "def y(x):\n",
        "    keys=[]\n",
        "    values=[]\n",
        "    for i in list(x.items()):\n",
        "        values.append(list(i)[0])\n",
        "        keys.append(list(i)[1])\n",
        "    return {k: v for (k, v) in zip(keys, values)}          \n",
        "print(y(d))   "
      ]
    },
    {
      "cell_type": "markdown",
      "metadata": {
        "id": "Nqis3cz6ab0P"
      },
      "source": [
        "# Задание 5. (Снова в школу...)\n",
        "\n",
        "Опишите структуру данных (базу данных) на основе словаря и интерфейс работы с ней (функцию). \n",
        "\n",
        "Создайте словарь school, и наполните его данными, которые бы отражали количество учащихся в разных классах (1а, 1б, 2б, 6а, 7в и т.п.). И функцию для внесения изменений в словарь в рамках следующего функционала: \n",
        "а) в одном из классов изменилось количество учащихся; \n",
        "б) в школе появился новый класс; \n",
        "с) в школе был расформирован (удален) класс, в связи с чем ученики были равномерно распределены по другим; \n",
        "d) выгрузка данных: общее количество учащихся в школе, общее колличество классав, распределение учеников по классам.\n",
        "\n",
        "P.S. Дополнительно.\n",
        "\n",
        "Подумайте как лучше всего хранить такую базу данных в файле. Попробуйте реализовать свою идею."
      ]
    },
    {
      "cell_type": "code",
      "execution_count": null,
      "metadata": {
        "id": "LXLBYaf3ab0P"
      },
      "outputs": [],
      "source": []
    },
    {
      "cell_type": "markdown",
      "metadata": {
        "id": "jjfpnMqfab0P"
      },
      "source": [
        "# Домашнее задание (дополнительное):"
      ]
    },
    {
      "cell_type": "markdown",
      "metadata": {
        "id": "hGPxSNR6ab0P"
      },
      "source": [
        "# Задание. Реверс словаря.\n",
        "\n",
        "Создайте словарь, где ключами являются цифры, а значениями – строки. Передайте словарь в функцию, которая создает и возвращает новый словарь, \"обратный\" исходному, при этом ключами являются буквы составляющие строки, а значениями – числа составленные из цифр в порядке соответствующем.\n",
        "\n",
        "Например: \n",
        "\n",
        "Исходный словарь: {1: 'аcc', 2: 'сab', 3: 'ccb'}\n",
        "\n",
        "Выходной словарь: {'а': 12, 'b': 23, 'c': 11233}"
      ]
    },
    {
      "cell_type": "code",
      "execution_count": null,
      "metadata": {
        "id": "oeHSRFUpab0P"
      },
      "outputs": [],
      "source": []
    },
    {
      "cell_type": "markdown",
      "metadata": {
        "id": "7DQPC2ULab0P"
      },
      "source": [
        "# Задание. Разрезание таблиц. \n",
        "\n",
        "Заполните квадратную таблицу порядка n по спирали по часовой стрелке начиная с левого верхнего угла. В напишите функцию принимающую данную таблицу в подходящем формате, найдите строку с наибольшим количеством нулей и столбец с максимальной суммой элементов. Разрежьте по этой строке и столбцу таблицу и верните из функции получившийся результат как отдельные таблицы, после чего выведете их на печать."
      ]
    },
    {
      "cell_type": "code",
      "execution_count": null,
      "metadata": {
        "id": "998gL7gQab0Q"
      },
      "outputs": [],
      "source": []
    },
    {
      "cell_type": "markdown",
      "metadata": {
        "id": "xW1gkIg6ab0Q"
      },
      "source": [
        "# Задание. Пары.\n",
        "\n",
        "На вход программы поступает последовательность из N целых положительных чисел, все числа в последовательности различны. Рассматриваются все пары различных элементов последовательности (элементы пары не обязаны стоять в последовательности рядом, порядок элементов в паре не важен). Необходимо определить количество пар, для которых произведение элементов делится на 26.\n",
        "Описание входных и выходных данных.\n",
        "\n",
        "В первой строке входных данных задаётся количество чисел N (1 ≤ N ≤ 1000). В каждой из последующих N строк записано одно целое положительное число, не превышающее 10 000.\n",
        "\n",
        "В качестве результата программа должна напечатать одно число: количество пар, в которых произведение элементов кратно 26.\n",
        "\n",
        "Пример входных данных: 4 2 6 13 39\n",
        "\n",
        "Пример выходных данных: 4\n",
        "\n",
        "Из четырёх заданных чисел можно составить 6 попарных произведений:\n",
        "\n",
        "2·6 = 12 \n",
        "\n",
        "2·13 = 26 \n",
        "\n",
        "2·39 = 78 \n",
        "\n",
        "6·13 = 78\n",
        "\n",
        "6·39 = 234 \n",
        "\n",
        "13·39 = 507\n",
        "\n",
        "Из них на 26 делятся 4 произведения:\n",
        "\n",
        "2·13=26\n",
        "\n",
        "2·39=78\n",
        "\n",
        "6·13=78\n",
        "\n",
        "6·39=234\n",
        "\n",
        "Требуется написать эффективную по времени и по памяти программу для решения описанной задачи.\n",
        "\n",
        "(Программа считается эффективной по времени, если при увеличении количества исходных чисел N в k раз время работы программы увеличивается не более чем в k раз. Программа считается эффективной по памяти, если память, необходимая для хранения всех переменных программы, не превышает 1 Кбайт и не меняется с ростом N.)"
      ]
    },
    {
      "cell_type": "code",
      "execution_count": null,
      "metadata": {
        "id": "ywwVM30Oab0Q"
      },
      "outputs": [],
      "source": []
    }
  ],
  "metadata": {
    "kernelspec": {
      "display_name": "Python 3",
      "language": "python",
      "name": "python3"
    },
    "language_info": {
      "codemirror_mode": {
        "name": "ipython",
        "version": 3
      },
      "file_extension": ".py",
      "mimetype": "text/x-python",
      "name": "python",
      "nbconvert_exporter": "python",
      "pygments_lexer": "ipython3",
      "version": "3.7.9"
    },
    "colab": {
      "provenance": [],
      "collapsed_sections": [
        "QDPLAtLxabzv",
        "9VZPQVYlabz6",
        "UvIKPNOkabz9",
        "9gNhJpS8abz-",
        "v1gI6TCtabz_",
        "2HNhh9Alab0E",
        "XFX7A3dwab0G",
        "tnbIZhixab0G",
        "0LUhTfMrab0M",
        "DQTFtmzYab0N",
        "wGO5AlMtab0O",
        "jjfpnMqfab0P",
        "hGPxSNR6ab0P",
        "7DQPC2ULab0P",
        "xW1gkIg6ab0Q"
      ]
    }
  },
  "nbformat": 4,
  "nbformat_minor": 0
}