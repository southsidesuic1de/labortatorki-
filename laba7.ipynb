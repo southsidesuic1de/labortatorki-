{
  "cells": [
    {
      "cell_type": "markdown",
      "metadata": {
        "id": "qPnR7M696-lv"
      },
      "source": [
        "# Лабораторная работа 7. ООП."
      ]
    },
    {
      "cell_type": "code",
      "execution_count": null,
      "metadata": {
        "id": "z-uA2oAn6-lx"
      },
      "outputs": [],
      "source": [
        "import pylab\n",
        "import numpy as np\n",
        "import matplotlib.pyplot as plt"
      ]
    },
    {
      "cell_type": "markdown",
      "metadata": {
        "id": "AWd5cl0G6-lx"
      },
      "source": [
        "# 1. Создание классов и объектов\n",
        "В языке программирования Python классы создаются с помощью инструкции class, за которой следует произвольное имя класса, после которого ставится двоеточие, далее с новой строки и с отступом реализуется тело класса:"
      ]
    },
    {
      "cell_type": "code",
      "execution_count": null,
      "metadata": {
        "id": "gT3erJXw6-ly"
      },
      "outputs": [],
      "source": [
        "class A:    #  class ИмяКласса:\n",
        "    pass    #  тело_класса"
      ]
    },
    {
      "cell_type": "markdown",
      "metadata": {
        "id": "Etv3dnHo6-ly"
      },
      "source": [
        "Создание экземпляра класса:"
      ]
    },
    {
      "cell_type": "code",
      "execution_count": null,
      "metadata": {
        "collapsed": true,
        "id": "h516idLz6-ly"
      },
      "outputs": [],
      "source": [
        "a = A()     #  имя_переменной = ИмяКласса()"
      ]
    },
    {
      "cell_type": "code",
      "execution_count": null,
      "metadata": {
        "id": "Q5lOif9w6-ly",
        "outputId": "cf81553d-71af-4523-ff00-b0bed13b538c"
      },
      "outputs": [
        {
          "name": "stdout",
          "output_type": "stream",
          "text": [
            "<__main__.A object at 0x00000178AB41DBE0> объект класса <class '__main__.A'>\n"
          ]
        }
      ],
      "source": [
        "print(a, 'объект класса', type(a))"
      ]
    },
    {
      "cell_type": "markdown",
      "metadata": {
        "id": "esMyU_lq6-lz"
      },
      "source": [
        "# 1.1. Класс как модуль (библиотека)\n",
        "Класс можно представить подобно модулю (библиотеки), в нем могут быть свои переменные со значениями и функции, у класса есть собственное пространство имен, доступ к которым возможен через имя класса:"
      ]
    },
    {
      "cell_type": "code",
      "execution_count": null,
      "metadata": {
        "id": "w64i-SY26-lz"
      },
      "outputs": [],
      "source": [
        "class CLASS:\n",
        "    const = 5              # атрибут класса\n",
        "    def adder(v):          # функция-метод\n",
        "        return v + CLASS.const"
      ]
    },
    {
      "cell_type": "code",
      "execution_count": null,
      "metadata": {
        "id": "VL9VWX506-lz",
        "outputId": "88b7fb16-b58a-48a3-f0bd-02e6706efdd0"
      },
      "outputs": [
        {
          "data": {
            "text/plain": [
              "5"
            ]
          },
          "execution_count": 6,
          "metadata": {},
          "output_type": "execute_result"
        }
      ],
      "source": [
        "CLASS.const"
      ]
    },
    {
      "cell_type": "code",
      "execution_count": null,
      "metadata": {
        "id": "lpuOrOjb6-lz",
        "outputId": "6fe32163-2115-445d-f002-fb9abf31295e"
      },
      "outputs": [
        {
          "data": {
            "text/plain": [
              "9"
            ]
          },
          "execution_count": 7,
          "metadata": {},
          "output_type": "execute_result"
        }
      ],
      "source": [
        "CLASS.adder(4)"
      ]
    },
    {
      "cell_type": "markdown",
      "metadata": {
        "id": "-UxA1WL56-l0"
      },
      "source": [
        "# 1.2. Класс как создатель объектов\n"
      ]
    },
    {
      "cell_type": "code",
      "execution_count": null,
      "metadata": {
        "collapsed": true,
        "id": "Cy_jkmxT6-l0"
      },
      "outputs": [],
      "source": [
        "Object = CLASS()"
      ]
    },
    {
      "cell_type": "code",
      "execution_count": null,
      "metadata": {
        "id": "RRQ3WjMT6-l0",
        "outputId": "1d9dde26-c815-4a31-e10a-3159ae3c744a"
      },
      "outputs": [
        {
          "data": {
            "text/plain": [
              "5"
            ]
          },
          "execution_count": 9,
          "metadata": {},
          "output_type": "execute_result"
        }
      ],
      "source": [
        "Object.const"
      ]
    },
    {
      "cell_type": "code",
      "execution_count": null,
      "metadata": {
        "id": "u0PyZEnY6-l0",
        "outputId": "f8fbe7e7-ddac-461e-f679-c93c303fc409"
      },
      "outputs": [
        {
          "ename": "TypeError",
          "evalue": "adder() takes 1 positional argument but 2 were given",
          "output_type": "error",
          "traceback": [
            "\u001b[1;31m---------------------------------------------------------------------------\u001b[0m",
            "\u001b[1;31mTypeError\u001b[0m                                 Traceback (most recent call last)",
            "\u001b[1;32m<ipython-input-10-1977c88ed4b9>\u001b[0m in \u001b[0;36m<module>\u001b[1;34m()\u001b[0m\n\u001b[1;32m----> 1\u001b[1;33m \u001b[0mObject\u001b[0m\u001b[1;33m.\u001b[0m\u001b[0madder\u001b[0m\u001b[1;33m(\u001b[0m\u001b[1;36m100\u001b[0m\u001b[1;33m)\u001b[0m\u001b[1;33m\u001b[0m\u001b[0m\n\u001b[0m",
            "\u001b[1;31mTypeError\u001b[0m: adder() takes 1 positional argument but 2 were given"
          ]
        }
      ],
      "source": [
        "Object.adder(100)"
      ]
    },
    {
      "cell_type": "markdown",
      "metadata": {
        "id": "5BXkBJLO6-l0"
      },
      "source": [
        "Дело в том, что классы и объекты не просто модули. Класс создает объекты, которые в определенном смысле являются его наследниками (копиями). \n",
        "\n",
        "Это значит, что если у объекта нет собственного поля const, то интерпретатор ищет его уровнем выше, то есть в классе. Таким образом, если мы присваиваем объекту поле с таким же именем как в классе, то оно перекрывает, т. е. переопределяет, поле класса:"
      ]
    },
    {
      "cell_type": "code",
      "execution_count": null,
      "metadata": {
        "id": "IkswpQII6-l0",
        "outputId": "47d29362-ef5d-43e2-953c-da3911325ac8"
      },
      "outputs": [
        {
          "data": {
            "text/plain": [
              "5"
            ]
          },
          "execution_count": 11,
          "metadata": {},
          "output_type": "execute_result"
        }
      ],
      "source": [
        "Object.const"
      ]
    },
    {
      "cell_type": "code",
      "execution_count": null,
      "metadata": {
        "id": "52dcnwX36-l1",
        "outputId": "05cd1b40-0f59-4b5c-f2a5-62aba908bd7e"
      },
      "outputs": [
        {
          "data": {
            "text/plain": [
              "10"
            ]
          },
          "execution_count": 12,
          "metadata": {},
          "output_type": "execute_result"
        }
      ],
      "source": [
        "Object.const = 10\n",
        "Object.const"
      ]
    },
    {
      "cell_type": "code",
      "execution_count": null,
      "metadata": {
        "id": "xNV0VD396-l1",
        "outputId": "0b0fd85e-62a2-4377-9890-8795dbab3148"
      },
      "outputs": [
        {
          "data": {
            "text/plain": [
              "5"
            ]
          },
          "execution_count": 13,
          "metadata": {},
          "output_type": "execute_result"
        }
      ],
      "source": [
        "CLASS.const"
      ]
    },
    {
      "cell_type": "markdown",
      "metadata": {
        "id": "c3yUhQxl6-l1"
      },
      "source": [
        "Видно что Object.const и CLASS.const – это разные переменные. \n",
        "\n",
        "Object.const находится в пространстве имен объекта Object. \n",
        "\n",
        "CLASS.const – в пространстве класса CLASS. \n",
        "\n",
        "Если не задовать поле const объекту Object, то интерпретатор бы поднялся выше по дереву наследования и пришел бы в класс, где бы и нашел это поле.\n",
        "\n",
        "Методы также наследуются объектами класса. В данном случае у объекта Object нет своего собственного метода adder, значит, он ищется в классе CLASS. Однако, от класса B может быть порождено множество объектов. И методы предназначаются для обработки объектов. Таким образом, когда вызывается метод, в него надо передать конкретный объект, который он будет обрабатывать.\n",
        "\n",
        "\n",
        "Выражение Object.adder(100) выполняется интерпретатором следующим образом:\n",
        "\n",
        "- Ищу атрибут adder() у объекта Object. Не нахожу.\n",
        "\n",
        "- Тогда иду искать в класс CLASS, так как он создал объект Object.\n",
        "\n",
        "- Здесь нахожу искомый метод. Передаю ему объект, к которому этот метод надо применить, и аргумент, указанный в скобках.\n",
        "\n",
        "Другими словами, выражение Object.adder(100) преобразуется в выражение CLASS.adder(Object, 100).\n",
        "\n",
        "Таким образом, интерпретатор попытался передать в метод adder() класса CLASS два параметра – объект Object и число 100. Но мы запрограммировали метод adder() так, что он принимает только один параметр. "
      ]
    },
    {
      "cell_type": "markdown",
      "metadata": {
        "id": "2ruIBt9Z6-l1"
      },
      "source": [
        "Однако:"
      ]
    },
    {
      "cell_type": "code",
      "execution_count": null,
      "metadata": {
        "id": "e62yb2CA6-l1",
        "outputId": "00cc53b4-a565-4ecc-aa6d-c746d78dd216"
      },
      "outputs": [
        {
          "ename": "TypeError",
          "evalue": "unsupported operand type(s) for +: 'CLASS' and 'int'",
          "output_type": "error",
          "traceback": [
            "\u001b[1;31m---------------------------------------------------------------------------\u001b[0m",
            "\u001b[1;31mTypeError\u001b[0m                                 Traceback (most recent call last)",
            "\u001b[1;32m<ipython-input-14-c3adf6ca135c>\u001b[0m in \u001b[0;36m<module>\u001b[1;34m()\u001b[0m\n\u001b[1;32m----> 1\u001b[1;33m \u001b[0mObject\u001b[0m\u001b[1;33m.\u001b[0m\u001b[0madder\u001b[0m\u001b[1;33m(\u001b[0m\u001b[1;33m)\u001b[0m\u001b[1;33m\u001b[0m\u001b[0m\n\u001b[0m",
            "\u001b[1;32m<ipython-input-5-c05bc98049a7>\u001b[0m in \u001b[0;36madder\u001b[1;34m(v)\u001b[0m\n\u001b[0;32m      2\u001b[0m     \u001b[0mconst\u001b[0m \u001b[1;33m=\u001b[0m \u001b[1;36m5\u001b[0m              \u001b[1;31m# атрибут класса\u001b[0m\u001b[1;33m\u001b[0m\u001b[0m\n\u001b[0;32m      3\u001b[0m     \u001b[1;32mdef\u001b[0m \u001b[0madder\u001b[0m\u001b[1;33m(\u001b[0m\u001b[0mv\u001b[0m\u001b[1;33m)\u001b[0m\u001b[1;33m:\u001b[0m          \u001b[1;31m# функция-метод\u001b[0m\u001b[1;33m\u001b[0m\u001b[0m\n\u001b[1;32m----> 4\u001b[1;33m         \u001b[1;32mreturn\u001b[0m \u001b[0mv\u001b[0m \u001b[1;33m+\u001b[0m \u001b[0mCLASS\u001b[0m\u001b[1;33m.\u001b[0m\u001b[0mconst\u001b[0m\u001b[1;33m\u001b[0m\u001b[0m\n\u001b[0m",
            "\u001b[1;31mTypeError\u001b[0m: unsupported operand type(s) for +: 'CLASS' and 'int'"
          ]
        }
      ],
      "source": [
        "Object.adder()"
      ]
    },
    {
      "cell_type": "markdown",
      "metadata": {
        "id": "1NQUHuHW6-l1"
      },
      "source": [
        "Получается странная ситуация. Ведь adder() вызывается не только через класса, но и через порожденные от него объекты. Однако в последнем случае всегда будет возникать ошибка. \n",
        "\n",
        "Может понадобиться метод с параметрами, но которому не надо передавать экземпляр данного класса. Для таких ситуаций предназначены статические методы. Такие методы могут вызываться через объекты данного класса, но сам объект в качестве аргумента в них не передается.\n",
        "\n",
        "В Python острой необходимости в статических методах нет, так как код может находиться за пределами класса, и программа не начинает выполняться из класса. Если нам нужна просто какая-нибудь функция, мы можем определить ее в основной ветке. Однако в Python тоже можно реализовать подобное, то есть статические методы, с помощью декоратора @staticmethod:"
      ]
    },
    {
      "cell_type": "code",
      "execution_count": null,
      "metadata": {
        "collapsed": true,
        "id": "vjOz5Hnx6-l2"
      },
      "outputs": [],
      "source": [
        "class CLASS:\n",
        "    const = 5              # атрибут класса\n",
        "    @staticmethod    \n",
        "    def adder(v):          # функция-метод\n",
        "        return v + CLASS.const"
      ]
    },
    {
      "cell_type": "code",
      "execution_count": null,
      "metadata": {
        "collapsed": true,
        "id": "nc1rqVZu6-l2"
      },
      "outputs": [],
      "source": [
        "Object = CLASS()"
      ]
    },
    {
      "cell_type": "code",
      "execution_count": null,
      "metadata": {
        "id": "Bj1fNtoG6-l2",
        "outputId": "0f804611-ce2d-4136-c352-e4d8f2a7925c"
      },
      "outputs": [
        {
          "data": {
            "text/plain": [
              "10"
            ]
          },
          "execution_count": 17,
          "metadata": {},
          "output_type": "execute_result"
        }
      ],
      "source": [
        "Object.adder(5)"
      ]
    },
    {
      "cell_type": "markdown",
      "metadata": {
        "id": "v2lr1d0O6-l2"
      },
      "source": [
        "Статические методы в Python – по-сути обычные функции, помещенные в класс для удобства и находящиеся в пространстве имен этого класса. Это может быть какой-то вспомогательный код. \n",
        "\n",
        "Вообще, если в теле метода не используется self, то есть ссылка на конкретный объект, имеет смысл сделать метод статическим."
      ]
    },
    {
      "cell_type": "markdown",
      "metadata": {
        "id": "7z7u4ZBf6-l2"
      },
      "source": [
        "# 1.3. Изменение полей объекта\n",
        "\n",
        "В Python объекту можно не только переопределять поля и методы, унаследованные от класса, также можно добавить новые, которых нет в классе:"
      ]
    },
    {
      "cell_type": "code",
      "execution_count": null,
      "metadata": {
        "id": "sHEVWqdv6-l2"
      },
      "outputs": [],
      "source": [
        "Object1 = CLASS()\n",
        "Object2 = CLASS()"
      ]
    },
    {
      "cell_type": "code",
      "execution_count": null,
      "metadata": {
        "id": "aCBBz6El6-l3",
        "outputId": "2d513780-e5e0-4038-9add-7c9ab13d904e"
      },
      "outputs": [
        {
          "data": {
            "text/plain": [
              "'abcd'"
            ]
          },
          "execution_count": 19,
          "metadata": {},
          "output_type": "execute_result"
        }
      ],
      "source": [
        "Object2.str = 'abcd'\n",
        "Object2.str"
      ]
    },
    {
      "cell_type": "code",
      "execution_count": null,
      "metadata": {
        "id": "sLrW-MUF6-l3",
        "outputId": "7db1c89f-e3c7-49fa-abb9-91a314f2f5e0"
      },
      "outputs": [
        {
          "ename": "AttributeError",
          "evalue": "'CLASS' object has no attribute 'str'",
          "output_type": "error",
          "traceback": [
            "\u001b[1;31m---------------------------------------------------------------------------\u001b[0m",
            "\u001b[1;31mAttributeError\u001b[0m                            Traceback (most recent call last)",
            "\u001b[1;32m<ipython-input-20-fa4dbf7c88b1>\u001b[0m in \u001b[0;36m<module>\u001b[1;34m()\u001b[0m\n\u001b[1;32m----> 1\u001b[1;33m \u001b[0mObject1\u001b[0m\u001b[1;33m.\u001b[0m\u001b[0mstr\u001b[0m\u001b[1;33m\u001b[0m\u001b[0m\n\u001b[0m",
            "\u001b[1;31mAttributeError\u001b[0m: 'CLASS' object has no attribute 'str'"
          ]
        }
      ],
      "source": [
        "Object1.str"
      ]
    },
    {
      "cell_type": "code",
      "execution_count": null,
      "metadata": {
        "id": "bN0Ipapy6-l3",
        "outputId": "79c23b11-3755-493f-82a7-279a31051cfb"
      },
      "outputs": [
        {
          "ename": "AttributeError",
          "evalue": "type object 'CLASS' has no attribute 'str'",
          "output_type": "error",
          "traceback": [
            "\u001b[1;31m---------------------------------------------------------------------------\u001b[0m",
            "\u001b[1;31mAttributeError\u001b[0m                            Traceback (most recent call last)",
            "\u001b[1;32m<ipython-input-21-758a4284ae27>\u001b[0m in \u001b[0;36m<module>\u001b[1;34m()\u001b[0m\n\u001b[1;32m----> 1\u001b[1;33m \u001b[0mCLASS\u001b[0m\u001b[1;33m.\u001b[0m\u001b[0mstr\u001b[0m\u001b[1;33m\u001b[0m\u001b[0m\n\u001b[0m",
            "\u001b[1;31mAttributeError\u001b[0m: type object 'CLASS' has no attribute 'str'"
          ]
        }
      ],
      "source": [
        "CLASS.str"
      ]
    },
    {
      "cell_type": "markdown",
      "metadata": {
        "id": "2zhIoFU76-l3"
      },
      "source": [
        "Однако в программировании так делать не принято, потому что тогда объекты одного класса будут отличаться между собой по набору атрибутов. Это затруднит автоматизацию их обработки, внесет в программу хаос.\n",
        "\n",
        "Поэтому принято присваивать полям, а также получать их значения, путем вызова методов (сеттеров (set – установить) и геттеров (get – получить)):"
      ]
    },
    {
      "cell_type": "code",
      "execution_count": null,
      "metadata": {
        "id": "U5e6_3dG6-l3"
      },
      "outputs": [],
      "source": [
        "class CLASS:\n",
        "    def setName(self, n):\n",
        "        self.name = n \n",
        "    def getName(self):\n",
        "        try:\n",
        "            return self.name\n",
        "        except:\n",
        "            return \"No name\""
      ]
    },
    {
      "cell_type": "code",
      "execution_count": null,
      "metadata": {
        "id": "tR5LA3NW6-l3"
      },
      "outputs": [],
      "source": [
        "first = CLASS()\n",
        "second = CLASS()"
      ]
    },
    {
      "cell_type": "code",
      "execution_count": null,
      "metadata": {
        "id": "1ZT519ug6-l3",
        "outputId": "68da4829-83fb-494d-dacc-ed704e1b8059"
      },
      "outputs": [
        {
          "data": {
            "text/plain": [
              "'Bob'"
            ]
          },
          "execution_count": 11,
          "metadata": {},
          "output_type": "execute_result"
        }
      ],
      "source": [
        "first.setName(\"Bob\")\n",
        "first.getName()"
      ]
    },
    {
      "cell_type": "code",
      "execution_count": null,
      "metadata": {
        "id": "fI4q0nHt6-l3",
        "outputId": "0e6eae73-4d12-4571-b40d-5f8369e947ef"
      },
      "outputs": [
        {
          "name": "stdout",
          "output_type": "stream",
          "text": [
            "No name\n"
          ]
        }
      ],
      "source": [
        "print(second.getName())"
      ]
    },
    {
      "cell_type": "markdown",
      "metadata": {
        "id": "YMdd551p6-l4"
      },
      "source": [
        "# 1.4. Специальные методы\n",
        "\n",
        "# Конструктор класса (метод $__init__()$)\n",
        "\n",
        "В объектно-ориентированном программировании конструктором класса называют метод, который автоматически вызывается при создании объектов. Его также можно назвать конструктором объектов класса. Имя такого метода обычно регламентируется синтаксисом конкретного языка программирования. \n",
        "\n",
        "В Python роль конструктора играет метод $__init__()$.\n",
        "\n",
        "В Python наличие пар знаков подчеркивания спереди и сзади в имени метода говорит о том, что он принадлежит к группе методов перегрузки операторов. Если подобные методы определены в классе, то объекты могут участвовать в таких операциях как сложение, вычитание, вызываться как функции и др.\n",
        "\n",
        "При этом методы перегрузки операторов не надо вызывать по имени. Вызовом для них является сам факт участия объекта в определенной операции. В случае конструктора класса – это операция создания объекта. Так как объект создается в момент вызова класса по имени, то в этот момент вызывается метод $__init__()$, если он определен в классе.\n",
        "\n",
        "Необходимость конструкторов связана с тем, что нередко объекты должны иметь собственные свойства сразу. \n",
        "\n",
        "Пусть имеется класс Person, объекты которого обязательно должны иметь имя и фамилию:"
      ]
    },
    {
      "cell_type": "code",
      "execution_count": null,
      "metadata": {
        "collapsed": true,
        "id": "b7_ynrLR6-l4"
      },
      "outputs": [],
      "source": [
        "class Person:\n",
        "    def setName(self, n, s):\n",
        "        self.name = n\n",
        "        self.surname = s"
      ]
    },
    {
      "cell_type": "code",
      "execution_count": null,
      "metadata": {
        "collapsed": true,
        "id": "n50bCEJm6-l4"
      },
      "outputs": [],
      "source": [
        "p1 = Person()\n",
        "p1.setName(\"Bill\", \"Ross\")"
      ]
    },
    {
      "cell_type": "markdown",
      "metadata": {
        "id": "Qmr-XexU6-l4"
      },
      "source": [
        "ИЛИ"
      ]
    },
    {
      "cell_type": "code",
      "execution_count": null,
      "metadata": {
        "collapsed": true,
        "id": "D19A65py6-l4"
      },
      "outputs": [],
      "source": [
        "class Person:\n",
        "    def __init__(self, n, s):\n",
        "        self.name = n\n",
        "        self.surname = s"
      ]
    },
    {
      "cell_type": "markdown",
      "metadata": {
        "id": "2qcrH8Dg6-l4"
      },
      "source": [
        "В свою очередь, конструктор класса не позволит создать объект без обязательных полей:"
      ]
    },
    {
      "cell_type": "code",
      "execution_count": null,
      "metadata": {
        "id": "8XFz82OD6-l4",
        "outputId": "c964737b-ba76-497b-dbb9-a670000806b4"
      },
      "outputs": [
        {
          "ename": "TypeError",
          "evalue": "__init__() missing 2 required positional arguments: 'n' and 's'",
          "output_type": "error",
          "traceback": [
            "\u001b[1;31m---------------------------------------------------------------------------\u001b[0m",
            "\u001b[1;31mTypeError\u001b[0m                                 Traceback (most recent call last)",
            "\u001b[1;32m<ipython-input-29-080148c2dc60>\u001b[0m in \u001b[0;36m<module>\u001b[1;34m()\u001b[0m\n\u001b[1;32m----> 1\u001b[1;33m \u001b[0mp2\u001b[0m \u001b[1;33m=\u001b[0m \u001b[0mPerson\u001b[0m\u001b[1;33m(\u001b[0m\u001b[1;33m)\u001b[0m\u001b[1;33m\u001b[0m\u001b[0m\n\u001b[0m",
            "\u001b[1;31mTypeError\u001b[0m: __init__() missing 2 required positional arguments: 'n' and 's'"
          ]
        }
      ],
      "source": [
        "p2 = Person()"
      ]
    },
    {
      "cell_type": "code",
      "execution_count": null,
      "metadata": {
        "id": "524ygSlZ6-l4",
        "outputId": "1cce7470-3476-47ea-f361-9019401500a3"
      },
      "outputs": [
        {
          "name": "stdout",
          "output_type": "stream",
          "text": [
            "Sam Baker\n"
          ]
        }
      ],
      "source": [
        "p2 = Person(\"Sam\", \"Baker\")\n",
        "print(p2.name, p2.surname)"
      ]
    },
    {
      "cell_type": "markdown",
      "metadata": {
        "id": "D119tyUN6-l4"
      },
      "source": [
        "Однако бывает, что надо допустить создание объекта, даже если никакие данные в конструктор не передаются. В таком случае параметрам конструктора класса задаются значения по умолчанию:"
      ]
    },
    {
      "cell_type": "code",
      "execution_count": null,
      "metadata": {
        "collapsed": true,
        "id": "-usPmHb26-l4"
      },
      "outputs": [],
      "source": [
        "class Rectangle:\n",
        "    def __init__(self, w = 0.5, h = 1):\n",
        "        self.width = w\n",
        "        self.height = h\n",
        "    def square(self):\n",
        "        return self.width * self.height"
      ]
    },
    {
      "cell_type": "code",
      "execution_count": null,
      "metadata": {
        "id": "8fATkxGT6-l5",
        "outputId": "906a9ca2-7144-489a-97e4-2f94c087b804"
      },
      "outputs": [
        {
          "name": "stdout",
          "output_type": "stream",
          "text": [
            "10\n",
            "0.5\n",
            "3\n",
            "2.0\n"
          ]
        }
      ],
      "source": [
        "rec1 = Rectangle(5, 2)\n",
        "rec2 = Rectangle()\n",
        "rec3 = Rectangle(3)\n",
        "rec4 = Rectangle(h = 4)\n",
        "\n",
        "print(rec1.square())\n",
        "print(rec2.square())\n",
        "print(rec3.square())\n",
        "print(rec4.square())"
      ]
    },
    {
      "cell_type": "markdown",
      "metadata": {
        "id": "ZITgQQ8k6-l5"
      },
      "source": [
        "# Конструктор и деструктор\n",
        "\n",
        "Помимо конструктора объектов в языках программирования есть обратный ему метод – деструктор. Он вызывается для уничтожения объекта.\n",
        "\n",
        "В языке программирования Python объект уничтожается, когда исчезают все связанные с ним переменные или им присваивается другое значение, в результате чего связь со старым объектом теряется. Удалить переменную можно с помощью команды языка del.\n",
        "\n",
        "В классах Python функцию деструктора выполняет метод $__del__()$."
      ]
    },
    {
      "cell_type": "code",
      "execution_count": null,
      "metadata": {
        "collapsed": true,
        "id": "KlQCnqWz6-l5"
      },
      "outputs": [],
      "source": [
        "class Student:\n",
        " \n",
        "    def __init__(self, name, surname, position=1):\n",
        "        self.name = name\n",
        "        self.surname = surname\n",
        "        self.position = position\n",
        " \n",
        "    def display(self):\n",
        "        return self.name, self.surname, self.position\n",
        " \n",
        "    def __del__(self):\n",
        "        print (\"Goodbye %s %s\" %(self.name, self.surname))"
      ]
    },
    {
      "cell_type": "code",
      "execution_count": null,
      "metadata": {
        "collapsed": true,
        "id": "Y59Xvrzt6-l5"
      },
      "outputs": [],
      "source": [
        "p1 = Student('big', 'dude', 3) \n",
        "p2 = Student('small', 'croon', 4)\n",
        "p3 = Student('neutral', 'guy', 5)"
      ]
    },
    {
      "cell_type": "code",
      "execution_count": null,
      "metadata": {
        "id": "hcLHqA4S6-l5",
        "outputId": "9676112f-f8e2-4936-e093-5cf5b349f555"
      },
      "outputs": [
        {
          "name": "stdout",
          "output_type": "stream",
          "text": [
            "('big', 'dude', 3)\n",
            "('small', 'croon', 4)\n",
            "('neutral', 'guy', 5)\n"
          ]
        }
      ],
      "source": [
        "print (p1.display())\n",
        "print (p2.display())\n",
        "print (p3.display())"
      ]
    },
    {
      "cell_type": "code",
      "execution_count": null,
      "metadata": {
        "id": "1E9MF7zU6-l5",
        "outputId": "d64ba064-fe3e-4f85-c4bc-7ccf0295948e"
      },
      "outputs": [
        {
          "name": "stdout",
          "output_type": "stream",
          "text": [
            "Goodbye small croon\n"
          ]
        }
      ],
      "source": [
        "del p2"
      ]
    },
    {
      "cell_type": "code",
      "execution_count": null,
      "metadata": {
        "id": "myXGGpBh6-l5",
        "outputId": "ce0c6437-abfb-4ea9-957e-9e621eba1791"
      },
      "outputs": [
        {
          "ename": "NameError",
          "evalue": "name 'p2' is not defined",
          "output_type": "error",
          "traceback": [
            "\u001b[1;31m---------------------------------------------------------------------------\u001b[0m",
            "\u001b[1;31mNameError\u001b[0m                                 Traceback (most recent call last)",
            "\u001b[1;32m<ipython-input-37-ed22e138fbca>\u001b[0m in \u001b[0;36m<module>\u001b[1;34m()\u001b[0m\n\u001b[1;32m----> 1\u001b[1;33m \u001b[0mprint\u001b[0m \u001b[1;33m(\u001b[0m\u001b[0mp2\u001b[0m\u001b[1;33m.\u001b[0m\u001b[0mdisplay\u001b[0m\u001b[1;33m(\u001b[0m\u001b[1;33m)\u001b[0m\u001b[1;33m)\u001b[0m\u001b[1;33m\u001b[0m\u001b[0m\n\u001b[0m",
            "\u001b[1;31mNameError\u001b[0m: name 'p2' is not defined"
          ]
        }
      ],
      "source": [
        "print (p2.display())"
      ]
    },
    {
      "cell_type": "markdown",
      "metadata": {
        "id": "PLcpU8YE6-l5"
      },
      "source": [
        "# Специальные методы Python"
      ]
    },
    {
      "cell_type": "markdown",
      "metadata": {
        "id": "sKqJJwYk6-l5"
      },
      "source": [
        "В Python есть ряд зарезервированных имен методов создаваемого класса - специальные (или стандартные) методы.\n",
        "\n",
        "Более подробную информацию о них вы можете найти в соответствующей документации по Python: https://docs.python.org/3/reference/datamodel.html\n",
        "\n",
        "Например:\n",
        "\n",
        "$__bool__()$\n",
        "\n",
        "Возвращает True или False.\n",
        "\n",
        "$__call__()$\n",
        "\n",
        "Позволяет использовать объект как функцию, т.е. его можно вызвать.\n",
        "\n",
        "$__len__()$\n",
        "\n",
        "Чаще всего реализуется в коллекциях и сходными с ними по логике работы типами, которые позволяют хранить наборы данных. Для списка (list) __len__() возвращает количество элементов в списке, для строки – количество символов в строке. Вызывается функцией len(), встроенной в язык Python."
      ]
    },
    {
      "cell_type": "markdown",
      "metadata": {
        "id": "okWib-q06-l6"
      },
      "source": [
        "# Метод $__setattr__()$\n",
        "\n",
        "В Python атрибуты объекту можно назначать за пределами класса:"
      ]
    },
    {
      "cell_type": "code",
      "execution_count": null,
      "metadata": {
        "collapsed": true,
        "id": "YxEkR8BR6-l6"
      },
      "outputs": [],
      "source": [
        "class A:\n",
        "    def __init__(self, v):\n",
        "        self.field1 = v"
      ]
    },
    {
      "cell_type": "code",
      "execution_count": null,
      "metadata": {
        "id": "N0IZN6JO6-l6",
        "outputId": "c870f17a-4901-4d25-ea61-160ac0430fba"
      },
      "outputs": [
        {
          "name": "stdout",
          "output_type": "stream",
          "text": [
            "10 20\n"
          ]
        }
      ],
      "source": [
        "a = A(10)\n",
        "a.field2 = 20\n",
        "print(a.field1, a.field2)"
      ]
    },
    {
      "cell_type": "markdown",
      "metadata": {
        "id": "HKVpYyMB6-l6"
      },
      "source": [
        "Если такое поведение нежелательно, его можно запретить с помощью метода перегрузки оператора присваивания атрибуту $__setattr__()$:"
      ]
    },
    {
      "cell_type": "code",
      "execution_count": null,
      "metadata": {
        "collapsed": true,
        "id": "MUXllNlf6-l6"
      },
      "outputs": [],
      "source": [
        "class A:\n",
        "    def __init__(self, v):\n",
        "        self.field1 = v\n",
        "    def __setattr__(self, attr, value):\n",
        "        if attr == 'field1':\n",
        "            self.__dict__[attr] = value\n",
        "        else:\n",
        "            raise AttributeError('Произошло обращение к несуществующему отребуту!')"
      ]
    },
    {
      "cell_type": "code",
      "execution_count": null,
      "metadata": {
        "id": "bZhe1DyF6-l6",
        "outputId": "0d90511d-43c5-4bbd-a07f-fc1d5b6975da"
      },
      "outputs": [
        {
          "data": {
            "text/plain": [
              "15"
            ]
          },
          "execution_count": 41,
          "metadata": {},
          "output_type": "execute_result"
        }
      ],
      "source": [
        "a = A(15)\n",
        "a.field1"
      ]
    },
    {
      "cell_type": "code",
      "execution_count": null,
      "metadata": {
        "id": "iS9WWDku6-l6",
        "outputId": "9b3cb28e-2051-40b8-bd0c-a2aac6cbdba7"
      },
      "outputs": [
        {
          "ename": "AttributeError",
          "evalue": "Произошло обращение к несуществующему отребуту!",
          "output_type": "error",
          "traceback": [
            "\u001b[1;31m---------------------------------------------------------------------------\u001b[0m",
            "\u001b[1;31mAttributeError\u001b[0m                            Traceback (most recent call last)",
            "\u001b[1;32m<ipython-input-42-f2358415109b>\u001b[0m in \u001b[0;36m<module>\u001b[1;34m()\u001b[0m\n\u001b[1;32m----> 1\u001b[1;33m \u001b[0ma\u001b[0m\u001b[1;33m.\u001b[0m\u001b[0mfield2\u001b[0m \u001b[1;33m=\u001b[0m \u001b[1;36m30\u001b[0m\u001b[1;33m\u001b[0m\u001b[0m\n\u001b[0m",
            "\u001b[1;32m<ipython-input-40-46da94a45054>\u001b[0m in \u001b[0;36m__setattr__\u001b[1;34m(self, attr, value)\u001b[0m\n\u001b[0;32m      6\u001b[0m             \u001b[0mself\u001b[0m\u001b[1;33m.\u001b[0m\u001b[0m__dict__\u001b[0m\u001b[1;33m[\u001b[0m\u001b[0mattr\u001b[0m\u001b[1;33m]\u001b[0m \u001b[1;33m=\u001b[0m \u001b[0mvalue\u001b[0m\u001b[1;33m\u001b[0m\u001b[0m\n\u001b[0;32m      7\u001b[0m         \u001b[1;32melse\u001b[0m\u001b[1;33m:\u001b[0m\u001b[1;33m\u001b[0m\u001b[0m\n\u001b[1;32m----> 8\u001b[1;33m             \u001b[1;32mraise\u001b[0m \u001b[0mAttributeError\u001b[0m\u001b[1;33m(\u001b[0m\u001b[1;34m'Произошло обращение к несуществующему отребуту!'\u001b[0m\u001b[1;33m)\u001b[0m\u001b[1;33m\u001b[0m\u001b[0m\n\u001b[0m",
            "\u001b[1;31mAttributeError\u001b[0m: Произошло обращение к несуществующему отребуту!"
          ]
        }
      ],
      "source": [
        "a.field2 = 30"
      ]
    },
    {
      "cell_type": "code",
      "execution_count": null,
      "metadata": {
        "id": "pU0KxaEJ6-l6",
        "outputId": "70439fef-0fa9-4cec-b098-46c22a6e0a9a"
      },
      "outputs": [
        {
          "ename": "AttributeError",
          "evalue": "'A' object has no attribute 'field2'",
          "output_type": "error",
          "traceback": [
            "\u001b[1;31m---------------------------------------------------------------------------\u001b[0m",
            "\u001b[1;31mAttributeError\u001b[0m                            Traceback (most recent call last)",
            "\u001b[1;32m<ipython-input-43-535783f42773>\u001b[0m in \u001b[0;36m<module>\u001b[1;34m()\u001b[0m\n\u001b[1;32m----> 1\u001b[1;33m \u001b[0ma\u001b[0m\u001b[1;33m.\u001b[0m\u001b[0mfield2\u001b[0m\u001b[1;33m\u001b[0m\u001b[0m\n\u001b[0m",
            "\u001b[1;31mAttributeError\u001b[0m: 'A' object has no attribute 'field2'"
          ]
        }
      ],
      "source": [
        "a.field2"
      ]
    },
    {
      "cell_type": "code",
      "execution_count": null,
      "metadata": {
        "id": "B-Msf6Ws6-l6",
        "outputId": "1e7be4da-df9b-421d-be78-5fc1fa657e92"
      },
      "outputs": [
        {
          "data": {
            "text/plain": [
              "{'field1': 15}"
            ]
          },
          "execution_count": 44,
          "metadata": {},
          "output_type": "execute_result"
        }
      ],
      "source": [
        "a.__dict__"
      ]
    },
    {
      "cell_type": "markdown",
      "metadata": {
        "id": "UOqTIo_F6-l7"
      },
      "source": [
        "Метод __setattr__(), если он присутствует в классе, вызывается всегда, когда какому-либо атрибуту выполняется присваивание. Обратите внимание, что присвоение несуществующему атрибуту также обозначает его добавление к объекту.\n",
        "\n",
        "Когда создается объект a, в конструктор передается число 15. Здесь для объекта заводится атрибут field1. Факт попытки присвоения ему значения тут же отправляет интерпретатор в метод __setattr__(), где проверяется соответствует ли имя атрибута строке 'field1'. Если так, то атрибут и соответствующее ему значение добавляется в словарь атрибутов объекта.\n",
        "\n",
        "Нельзя в __setattr__() написать просто self.field1 = value, так как это приведет к новому рекурсивному вызову метода __setattr__(). Поэтому поле назначается через словарь __dict__, который есть у всех объектов, и в котором хранятся их атрибуты со значениями.\n",
        "\n",
        "Если параметр attr не соответствует допустимым полям, то искусственно возбуждается исключение AttributeError. Мы это видим, когда в основной ветке пытаемся обзавестись полем field2."
      ]
    },
    {
      "cell_type": "markdown",
      "metadata": {
        "id": "vB0g1yWm6-l7"
      },
      "source": [
        "# Пример №1. Числа Фибоначчи\n",
        "\n",
        "Последовательность чисел Фибоначчи задаётся рекуррентным выражением:\n",
        "\n",
        "$$ F_n =  \\begin{cases}\n",
        "           0, n = 0, \\\\\n",
        "           1, n = 1, \\\\\n",
        "           F_{n-1}+F_{n-2}, n > 1.\n",
        "          \\end{cases} $$\n",
        "\n",
        "Что даёт следующую последовательность {0, 1, 1, 2, 3, 5, 8, 13, 21, 34, …}."
      ]
    },
    {
      "cell_type": "markdown",
      "metadata": {
        "id": "DkstGWL36-l7"
      },
      "source": [
        "Один из способов решения, который может показаться логичным и эффективным, — решение с помощью рекурсии:"
      ]
    },
    {
      "cell_type": "code",
      "execution_count": null,
      "metadata": {
        "collapsed": true,
        "id": "-SpE88_f6-l7"
      },
      "outputs": [],
      "source": [
        "def Fibonacci_Recursion(n):\n",
        "    if n == 0:\n",
        "        return 0\n",
        "    if n == 1:\n",
        "        return 1\n",
        "    return Fibonacci_Recursion (n-1) + Fibonacci_Recursion (n-2)"
      ]
    },
    {
      "cell_type": "markdown",
      "metadata": {
        "id": "PHmgUBSt6-l7"
      },
      "source": [
        "Используя такую функцию, мы будем решать задачу «с конца» — будем шаг за шагом уменьшать n, пока не дойдем до известных значений.\n",
        "\n",
        "Но, как мы видели ранее эта реализация многократно повторяет решение одних и тех же задач. Это связано с тем, что одни и те же промежуточные данные вычисляются по несколько раз, а число операций нарастает с той же скоростью, с какой растут числа Фибоначчи — экспоненциально.\n",
        "\n",
        "Один из выходов из данной ситуации — сохранение уже найденных промежуточных результатов с целью их повторного использования (кеширование). Причём кеш должен храниться во внешней области памяти."
      ]
    },
    {
      "cell_type": "code",
      "execution_count": null,
      "metadata": {
        "collapsed": true,
        "id": "baExeA9h6-l8"
      },
      "outputs": [],
      "source": [
        "def Fibonacci_Recursion_cache(n, cache):\n",
        "    if n == 0:\n",
        "        return 0\n",
        "    if n == 1:\n",
        "        return 1\n",
        "    if cache[n] > 0:\n",
        "        return cache[n]\n",
        "    cache[n] = Fibonacci_Recursion_cache (n-1, cache) + Fibonacci_Recursion_cache (n-2, cache)\n",
        "    return cache[n]"
      ]
    },
    {
      "cell_type": "markdown",
      "metadata": {
        "id": "HnUBCKnN6-l8"
      },
      "source": [
        "Приведенное решение достаточно эффективно (за исключением накладных расходов на вызов функций). Но можно поступить ещё проще:"
      ]
    },
    {
      "cell_type": "code",
      "execution_count": null,
      "metadata": {
        "id": "_L7FQa0e6-l8"
      },
      "outputs": [],
      "source": [
        "def Fibonacci(n):\n",
        "    \n",
        "    fib = [0]*max(2,n)\n",
        "    fib[0] = 1\n",
        "    fib[1] = 1\n",
        "    for i in range(2, n):\n",
        "        fib[i] = fib[i - 1] + fib[i - 2]\n",
        "        \n",
        "    return fib[n-1]"
      ]
    },
    {
      "cell_type": "markdown",
      "metadata": {
        "id": "CdDWJAQC6-l8"
      },
      "source": [
        "Такое решение можно назвать решением «с начала» — мы первым делом заполняем известные значения, затем находим первое неизвестное значение, потом следующее и т.д., пока не дойдем до нужного.\n",
        "\n",
        "Так и работает динамическое программирование: сначала решили все подзадачи (нашли все F[i] для i < n), затем, зная решения подзадач, нашли решение исходной задачи."
      ]
    },
    {
      "cell_type": "markdown",
      "metadata": {
        "id": "ii0YTyyy6-l8"
      },
      "source": [
        "# Упражнение №1\n",
        "\n",
        "Создайте класс для вычисления чисел Фибоначчи. Каждое число фибоначи является объектом этого класса, которое имеет атрибуты: значение и номер. Используйте функции для инициализации (вычисления) чисел Фибоначчи как сторонние по отношению к этому классу."
      ]
    },
    {
      "cell_type": "code",
      "execution_count": null,
      "metadata": {
        "id": "Jz8uyH386-l9"
      },
      "outputs": [],
      "source": [
        "def calcFib(n):\n",
        "    f = []\n",
        "    f.append(0)\n",
        "    f.append(1)\n",
        "    for i in range(2, n+1):\n",
        "        f.append(f[i-1] + f[i-2])\n",
        "    return f[n]\n",
        "\n",
        "class fib:\n",
        "    def __init__(self, n):\n",
        "        self.number = n\n",
        "        self.value = calcFib(n)\n",
        "\n",
        "f20 = fib(20)\n",
        "print(f20.__dict__)"
      ]
    },
    {
      "cell_type": "markdown",
      "metadata": {
        "id": "gaCvJhmb6-l9"
      },
      "source": [
        "# Упражнение №2\n",
        "\n",
        "Поместите функции для вычисления чисел Фибоначчи внутрь созданного класса как статические функции."
      ]
    },
    {
      "cell_type": "code",
      "execution_count": null,
      "metadata": {
        "id": "FzFMXMAl6-l9"
      },
      "outputs": [],
      "source": [
        "class fib:\n",
        "    def __init__(self, n):\n",
        "        self.number = n\n",
        "        self.value = self.calcFib(n)\n",
        "\n",
        "    @staticmethod\n",
        "    def calcFib(n):\n",
        "        f = []\n",
        "        f.append(0)\n",
        "        f.append(1)\n",
        "        for i in range(2, n+1):\n",
        "            f.append(f[i-1] + f[i-2])\n",
        "        return f[n]\n",
        "\n",
        "f20 = fib(20)\n",
        "print(f20.__dict__)"
      ]
    },
    {
      "cell_type": "markdown",
      "metadata": {
        "id": "gNpKZgay6-l9"
      },
      "source": [
        "# Упражнение №3\n",
        "\n",
        "Перегрузите опарации сложения, вычитания, умножения и деления для созданного класса как операции с номерами чисел Фибоначи."
      ]
    },
    {
      "cell_type": "code",
      "execution_count": 2,
      "metadata": {
        "collapsed": true,
        "colab": {
          "base_uri": "https://localhost:8080/"
        },
        "id": "OwifSRFj6-l9",
        "outputId": "ac66cc5d-431e-419e-be28-9f25aca376f9"
      },
      "outputs": [
        {
          "output_type": "stream",
          "name": "stdout",
          "text": [
            "50\n",
            "-10\n",
            "600\n",
            "0.6666666666666666\n"
          ]
        }
      ],
      "source": [
        "class fib:\n",
        "    def __init__(self, n):\n",
        "        self.number = n\n",
        "        self.value = self.calcFib(n)\n",
        "\n",
        "    def __add__(self, other):\n",
        "        return (self.number + other.number)\n",
        "        \n",
        "    def __sub__(self, other):\n",
        "        return (self.number - other.number)\n",
        "        \n",
        "    def __mul__(self, other):\n",
        "        return (self.number * other.number)\n",
        "        \n",
        "    def __truediv__(self, other):\n",
        "        return (self.number / other.number)\n",
        "    @staticmethod\n",
        "    def calcFib(n):\n",
        "        f = []\n",
        "        f.append(0)\n",
        "        f.append(1)\n",
        "        for i in range(2, n+1):\n",
        "            f.append(f[i-1] + f[i-2])\n",
        "        return f[n]\n",
        "f20 = fib(20)\n",
        "f30 = fib(30)\n",
        "print(f20 + f30)\n",
        "print(f20 - f30)\n",
        "print(f20 * f30)\n",
        "print(f20 / f30)"
      ]
    },
    {
      "cell_type": "markdown",
      "metadata": {
        "id": "cOxh0yY56-l9"
      },
      "source": [
        "# 1.5. Инкапсуляция\n",
        "Под инкапсуляцией в объектно-ориентированном программировании понимается упаковка данных и методов для их обработки вместе, т. е. в классе. В Python инкапсуляция реализуется как на уровне классов, так и объектов. В ряде других языков, например в Java, под инкапсуляцией также понимают сокрытие свойств и методов, в результате чего они становятся приватными. Это значит, что доступ к ним ограничен либо пределами класса, либо модуля.\n",
        "\n",
        "В Python подобной инкапсуляции нет, хотя существует способ ее имитировать. Перед тем как выяснять, как это делается, надо понять, зачем вообще что-то скрывать.\n",
        "\n",
        "Дело в том, что классы бывают большими и сложными. В них может быть множество вспомогательных полей и методов, которые не должны использоваться за его пределами. Они просто для этого не предназначены. Они своего рода внутренние шестеренки, обеспечивающие нормальную работу класса.\n",
        "\n",
        "Кроме того, в других языках программирования хорошей практикой считается сокрытие всех полей объектов, чтобы уберечь их от прямого присвоения значений из основной ветки программы. Их значения можно изменять и получать только через вызовы методов, специально определенных для этих целей.\n",
        "\n",
        "Например, если надо проверять присваиваемое полю значение на корректность, то делать это каждый раз в основном коде программы будет неправильным. Проверочный код должен быть помещен в метод, который получает данные, для присвоения полю. А само поле должно быть закрыто для доступа из вне класса. В этом случае ему невозможно будет присвоить недопустимое значение.\n",
        "\n",
        "Часто намеренно скрываются поля самого класса, а не его объектов. Например, если класс имеет счетчик своих объектов, то необходимо исключить возможность его случайного изменения из вне. Рассмотрим пример с таким счетчиком на языке Python."
      ]
    },
    {
      "cell_type": "code",
      "execution_count": null,
      "metadata": {
        "collapsed": true,
        "id": "Thj4-Cj96-l9"
      },
      "outputs": [],
      "source": [
        "class B:\n",
        "    count = 0\n",
        "    def __init__(self):\n",
        "        B.count += 1\n",
        "    def __del__(self):\n",
        "        B.count -= 1"
      ]
    },
    {
      "cell_type": "code",
      "execution_count": null,
      "metadata": {
        "id": "JhjvMya66-l-",
        "outputId": "868dafa8-b00c-4a2a-ed99-1105244de431"
      },
      "outputs": [
        {
          "name": "stdout",
          "output_type": "stream",
          "text": [
            "3\n",
            "3\n",
            "2\n"
          ]
        }
      ],
      "source": [
        "a = B()\n",
        "b = B()\n",
        "с = B()\n",
        "print(b.count)\n",
        "print(B.count) \n",
        "del a\n",
        "print(B.count) "
      ]
    },
    {
      "cell_type": "code",
      "execution_count": null,
      "metadata": {
        "id": "jihtwwqE6-l-",
        "outputId": "95269c44-ba86-4f91-ae1a-b684006430c5"
      },
      "outputs": [
        {
          "data": {
            "text/plain": [
              "2"
            ]
          },
          "execution_count": 4,
          "metadata": {},
          "output_type": "execute_result"
        }
      ],
      "source": [
        "b.count"
      ]
    },
    {
      "cell_type": "code",
      "execution_count": null,
      "metadata": {
        "id": "y-QSu0UF6-l-",
        "outputId": "3990e0f7-2e85-4020-96df-f9bfa8156a3c"
      },
      "outputs": [
        {
          "name": "stdout",
          "output_type": "stream",
          "text": [
            "1\n"
          ]
        }
      ],
      "source": [
        "B.count -= 1\n",
        "print(B.count)"
      ]
    },
    {
      "cell_type": "markdown",
      "metadata": {
        "id": "OETh2HUz6-l_"
      },
      "source": [
        "# 2. Полиморфизм\n",
        "Полиморфизм в объектно-ориентированном программировании – это возможность обработки разных типов данных, т. е. принадлежащих к разным классам, с помощью \"одно и той же\" функции, или метода. На самом деле одинаковым является только имя метода, его исходный код зависит от класса. Кроме того, результаты работы одноименных методов могут существенно различаться. Поэтому в данном контексте под полиморфизмом понимается множество форм одного и того же слова – имени метода.\n",
        "\n",
        "Например, два разных класса содержат метод total, однако инструкции каждого предусматривают совершенно разные операции. Так в классе T1 – это прибавление 10 к аргументу, в T2 – подсчет длины строки символов. В зависимости от того, к объекту какого класса применяется метод total, выполняются те или иные инструкции."
      ]
    },
    {
      "cell_type": "code",
      "execution_count": null,
      "metadata": {
        "collapsed": true,
        "id": "gI7XWtdk6-l_"
      },
      "outputs": [],
      "source": [
        "class T1:\n",
        "     n=10\n",
        "     def total(self, N):\n",
        "          self.total = int(self.n) + int(N)\n",
        " \n",
        "class T2:\n",
        "     def total(self,s):\n",
        "          self.total = len(str(s))"
      ]
    },
    {
      "cell_type": "code",
      "execution_count": null,
      "metadata": {
        "id": "mC1RsZ3L6-l_",
        "outputId": "d6e1b672-22c2-4649-d077-d139cd3179c7"
      },
      "outputs": [
        {
          "name": "stdout",
          "output_type": "stream",
          "text": [
            "55\n",
            "2\n"
          ]
        }
      ],
      "source": [
        "t1 = T1()\n",
        "t2 = T2()\n",
        "t1.total(45)\n",
        "t2.total(45)\n",
        "print(t1.total) \n",
        "print(t2.total) "
      ]
    },
    {
      "cell_type": "markdown",
      "metadata": {
        "id": "Q8RbvgL56-mA"
      },
      "source": [
        "Как видно полиморфизмом обладают классы связанные наследованием. У каждого может быть свой метод __init__() или square() или какой-нибудь другой. Какой именно из методов square() вызывается, и что он делает, зависит от принадлежности объекта к тому или иному классу.\n",
        "\n",
        "Однако классы не обязательно должны быть связанны наследованием. Полиморфизм как один из ключевых элементов ООП существует независимо от наследования. Классы могут быть не родственными, но иметь одинаковые методы.\n",
        "\n",
        "Полиморфизм дает возможность реализовывать так называемые единые интерфейсы для объектов различных классов. Например, разные классы могут предусматривать различный способ вывода той или иной информации объектов. Однако одинаковое название метода вывода позволит не запутать программу, сделать код более ясным.\n",
        "\n",
        "Рассмотрим пример полиморфизма на еще одном методе, который перегружает функцию print().\n",
        "\n",
        "Если вы создадите объект собственного класса, а потом попробуете вывести его на экран, то получите информацию о классе объекта и его адрес в памяти. Такое поведение функции print() по-умолчанию по отношению к пользовательским классам запрограммировано на самом верхнем уровне иерархии, где-то в суперклассе, от которого неявно наследуются все остальные."
      ]
    },
    {
      "cell_type": "code",
      "execution_count": null,
      "metadata": {
        "collapsed": true,
        "id": "p1L2NjXa6-mA"
      },
      "outputs": [],
      "source": [
        "class A:\n",
        "    def __init__(self, v1, v2):\n",
        "        self.field1 = v1\n",
        "        self.field2 = v2"
      ]
    },
    {
      "cell_type": "code",
      "execution_count": null,
      "metadata": {
        "id": "6LejdX646-mA",
        "outputId": "869d29e7-68ca-4e16-b6bb-7ebc81acdde8"
      },
      "outputs": [
        {
          "name": "stdout",
          "output_type": "stream",
          "text": [
            "<__main__.A object at 0x0000021DDCE084E0>\n"
          ]
        }
      ],
      "source": [
        "a = A(3, 4)\n",
        "print(a)"
      ]
    },
    {
      "cell_type": "markdown",
      "metadata": {
        "id": "SLMrpxPX6-mA"
      },
      "source": [
        "Если же мы хотим, чтобы, когда объект передается функции print(), выводилась какая-нибудь другая более полезная информация, то в класс надо добавить специальный метод __str__(). Этот метод должен обязательно возвращать строку, которую будет выводить функция print():"
      ]
    },
    {
      "cell_type": "code",
      "execution_count": null,
      "metadata": {
        "collapsed": true,
        "id": "QHaW1UDo6-mA"
      },
      "outputs": [],
      "source": [
        "class A:\n",
        "    def __init__(self, v1, v2):\n",
        "        self.field1 = v1\n",
        "        self.field2 = v2\n",
        "    def __str__(self):\n",
        "        return str(self.field1) + \" \" + str(self.field2)"
      ]
    },
    {
      "cell_type": "code",
      "execution_count": null,
      "metadata": {
        "id": "TPdwHO1b6-mA",
        "outputId": "d39fc5f2-16f8-4dd9-dbd0-998ad8a4334e"
      },
      "outputs": [
        {
          "name": "stdout",
          "output_type": "stream",
          "text": [
            "3 4\n"
          ]
        }
      ],
      "source": [
        "a = A(3, 4)\n",
        "print(a)"
      ]
    },
    {
      "cell_type": "markdown",
      "metadata": {
        "collapsed": true,
        "id": "2wIdPETf6-mA"
      },
      "source": [
        "# 3. Наследование\n",
        "Наследование – важная составляющая объектно-ориентированного программирования. Так или иначе мы уже сталкивались с ним, ведь объекты наследуют атрибуты своих классов. Однако обычно под наследованием в ООП понимается наличие классов и подклассов. Также их называют супер- или надклассами и классами, а также родительскими и дочерними классами.\n",
        "\n",
        "Суть наследования здесь схожа с наследованием объектами от классов. Дочерние классы наследуют атрибуты родительских, а также могут переопредять атрибуты и добавлять свои."
      ]
    },
    {
      "cell_type": "markdown",
      "metadata": {
        "collapsed": true,
        "id": "M2dE5Wqo6-mA"
      },
      "source": [
        "# 3.1. Простое наследование"
      ]
    },
    {
      "cell_type": "code",
      "execution_count": null,
      "metadata": {
        "collapsed": true,
        "id": "33C73yxy6-mA"
      },
      "outputs": [],
      "source": [
        "class Table:\n",
        "    def __init__(self, l, w, h):\n",
        "        self.lenght = l\n",
        "        self.width = w\n",
        "        self.height = h\n",
        " \n",
        "class KitchenTable(Table):\n",
        "    def setPlaces(self, p):\n",
        "        self.places = p\n",
        " \n",
        "class DeskTable(Table):\n",
        "    def square(self):\n",
        "        return self.width * self.lenght"
      ]
    },
    {
      "cell_type": "markdown",
      "metadata": {
        "collapsed": true,
        "id": "q2ZdkATl6-mA"
      },
      "source": [
        "В данном случае классы KitchenTable и DeskTable не имеют своих собственных конструкторов, поэтому наследуют его от родительского класса. При создании экземпляров этих столов, передавать аргументы для __init__() обязательно, иначе возникнет ошибка:"
      ]
    },
    {
      "cell_type": "code",
      "execution_count": null,
      "metadata": {
        "id": "e-MJDGT86-mB",
        "outputId": "12f99a60-53f3-472b-fd29-b52c619e423a"
      },
      "outputs": [
        {
          "ename": "TypeError",
          "evalue": "__init__() missing 3 required positional arguments: 'l', 'w', and 'h'",
          "output_type": "error",
          "traceback": [
            "\u001b[1;31m---------------------------------------------------------------------------\u001b[0m",
            "\u001b[1;31mTypeError\u001b[0m                                 Traceback (most recent call last)",
            "\u001b[1;32m<ipython-input-15-23c8571ae17e>\u001b[0m in \u001b[0;36m<module>\u001b[1;34m()\u001b[0m\n\u001b[1;32m----> 1\u001b[1;33m \u001b[0mt1\u001b[0m \u001b[1;33m=\u001b[0m \u001b[0mKitchenTable\u001b[0m\u001b[1;33m(\u001b[0m\u001b[1;33m)\u001b[0m\u001b[1;33m\u001b[0m\u001b[0m\n\u001b[0m",
            "\u001b[1;31mTypeError\u001b[0m: __init__() missing 3 required positional arguments: 'l', 'w', and 'h'"
          ]
        }
      ],
      "source": [
        "t1 = KitchenTable()"
      ]
    },
    {
      "cell_type": "code",
      "execution_count": null,
      "metadata": {
        "collapsed": true,
        "id": "zQZLePFV6-mB"
      },
      "outputs": [],
      "source": [
        "t1 = KitchenTable(2, 2, 0.7)\n",
        "t2 = DeskTable(1.5, 0.8, 0.75)\n",
        "t3 = KitchenTable(1, 1.2, 0.8)"
      ]
    },
    {
      "cell_type": "code",
      "execution_count": null,
      "metadata": {
        "id": "g_HgIEdO6-mB",
        "outputId": "5582d2bc-0c0e-4e49-a404-1996da78c69d"
      },
      "outputs": [
        {
          "data": {
            "text/plain": [
              "1"
            ]
          },
          "execution_count": 17,
          "metadata": {},
          "output_type": "execute_result"
        }
      ],
      "source": [
        "t3.lenght"
      ]
    },
    {
      "cell_type": "markdown",
      "metadata": {
        "collapsed": true,
        "id": "zftDoqba6-mC"
      },
      "source": [
        "Несомненно можно создавать столы и от родительского класса Table. Однако он не будет, согласно неким родственным связям, иметь доступ к методам setPlaces() и square(). Точно также как объект класса KitchenTable не имеет доступа к единоличным атрибутам сестринского класса DeskTable"
      ]
    },
    {
      "cell_type": "code",
      "execution_count": null,
      "metadata": {
        "collapsed": true,
        "id": "Iwvo8sw76-mC"
      },
      "outputs": [],
      "source": [
        "t4 = Table(1, 1, 0.5)"
      ]
    },
    {
      "cell_type": "code",
      "execution_count": null,
      "metadata": {
        "id": "Tna0W8iI6-mC",
        "outputId": "0d3fccb4-51df-4f0b-ff65-474422ef7a37"
      },
      "outputs": [
        {
          "data": {
            "text/plain": [
              "1.2000000000000002"
            ]
          },
          "execution_count": 19,
          "metadata": {},
          "output_type": "execute_result"
        }
      ],
      "source": [
        "t2.width * t2.lenght"
      ]
    },
    {
      "cell_type": "code",
      "execution_count": null,
      "metadata": {
        "id": "YMqeZs_J6-mC",
        "outputId": "b9d18fad-900d-4409-9a62-047c7e19d413"
      },
      "outputs": [
        {
          "data": {
            "text/plain": [
              "1.2000000000000002"
            ]
          },
          "execution_count": 20,
          "metadata": {},
          "output_type": "execute_result"
        }
      ],
      "source": [
        "t2.square()"
      ]
    },
    {
      "cell_type": "code",
      "execution_count": null,
      "metadata": {
        "id": "W7XjF2cb6-mC",
        "outputId": "288696bd-438c-4d8b-d37b-c528ee7dce66"
      },
      "outputs": [
        {
          "ename": "AttributeError",
          "evalue": "'Table' object has no attribute 'square'",
          "output_type": "error",
          "traceback": [
            "\u001b[1;31m---------------------------------------------------------------------------\u001b[0m",
            "\u001b[1;31mAttributeError\u001b[0m                            Traceback (most recent call last)",
            "\u001b[1;32m<ipython-input-21-7b0795c5741d>\u001b[0m in \u001b[0;36m<module>\u001b[1;34m()\u001b[0m\n\u001b[1;32m----> 1\u001b[1;33m \u001b[0mt4\u001b[0m\u001b[1;33m.\u001b[0m\u001b[0msquare\u001b[0m\u001b[1;33m(\u001b[0m\u001b[1;33m)\u001b[0m\u001b[1;33m\u001b[0m\u001b[0m\n\u001b[0m",
            "\u001b[1;31mAttributeError\u001b[0m: 'Table' object has no attribute 'square'"
          ]
        }
      ],
      "source": [
        "t4.square()"
      ]
    },
    {
      "cell_type": "code",
      "execution_count": null,
      "metadata": {
        "id": "tPbEnH5C6-mC",
        "outputId": "01d29f4b-f322-402b-96ac-a27aa273bd97"
      },
      "outputs": [
        {
          "ename": "AttributeError",
          "evalue": "'KitchenTable' object has no attribute 'square'",
          "output_type": "error",
          "traceback": [
            "\u001b[1;31m---------------------------------------------------------------------------\u001b[0m",
            "\u001b[1;31mAttributeError\u001b[0m                            Traceback (most recent call last)",
            "\u001b[1;32m<ipython-input-22-ed231ab2573c>\u001b[0m in \u001b[0;36m<module>\u001b[1;34m()\u001b[0m\n\u001b[1;32m----> 1\u001b[1;33m \u001b[0mt3\u001b[0m\u001b[1;33m.\u001b[0m\u001b[0msquare\u001b[0m\u001b[1;33m(\u001b[0m\u001b[1;33m)\u001b[0m\u001b[1;33m\u001b[0m\u001b[0m\n\u001b[0m",
            "\u001b[1;31mAttributeError\u001b[0m: 'KitchenTable' object has no attribute 'square'"
          ]
        }
      ],
      "source": [
        "t3.square()"
      ]
    },
    {
      "cell_type": "markdown",
      "metadata": {
        "id": "_uGiflmx6-mD"
      },
      "source": [
        "# 3.2. Полное переопределение метода надкласса\n",
        "Что если в подклассе нам не подходит код метода его надкласса. Допустим, мы вводим еще один класс столов, который является дочерним по отношению к DeskTable. Пусть это будут компьютерные столы, при вычислении рабочей поверхности которых надо отнимать заданную величину. Имеет смысл внести в этот новый подкласс его собственный метод square():"
      ]
    },
    {
      "cell_type": "code",
      "execution_count": null,
      "metadata": {
        "collapsed": true,
        "id": "eXfgYfEA6-mD"
      },
      "outputs": [],
      "source": [
        "class ComputerTable(DeskTable):\n",
        "    def square(self, e):\n",
        "        return self.width * self.lenght - e"
      ]
    },
    {
      "cell_type": "markdown",
      "metadata": {
        "id": "drdU2Nop6-mD"
      },
      "source": [
        "При создании объекта типа ComputerTable по-прежнему требуется указывать параметры, так как интерпретатор в поисках конструктора пойдет по дереву наследования сначала в родителя, а потом в прародителя и найдет там метод __init__().\n",
        "\n",
        "Однако когда будет вызываться метод square(), то поскольку он будет обнаружен в самом ComputerTable, то метод square() из DeskTable останется невидимым, т. е. для объектов класса ComputerTable он окажется переопределенным."
      ]
    },
    {
      "cell_type": "code",
      "execution_count": null,
      "metadata": {
        "id": "OoUv9AHw6-mD",
        "outputId": "f41f6f04-c388-40bb-a3e8-d88b2adc7e62"
      },
      "outputs": [
        {
          "data": {
            "text/plain": [
              "1.7"
            ]
          },
          "execution_count": 24,
          "metadata": {},
          "output_type": "execute_result"
        }
      ],
      "source": [
        "ct = ComputerTable(2, 1, 1)\n",
        "ct.square(0.3)"
      ]
    },
    {
      "cell_type": "markdown",
      "metadata": {
        "id": "Oqb_wDdE6-mE"
      },
      "source": [
        "ИЛИ"
      ]
    },
    {
      "cell_type": "code",
      "execution_count": null,
      "metadata": {
        "collapsed": true,
        "id": "t_ZEjYah6-mE"
      },
      "outputs": [],
      "source": [
        "class ComputerTable(DeskTable):\n",
        "    def square(self, e):\n",
        "        return DeskTable.square(self) - e "
      ]
    },
    {
      "cell_type": "code",
      "execution_count": null,
      "metadata": {
        "id": "O9gG3YrG6-mE",
        "outputId": "0ab4b239-96b0-42eb-e12e-ffcd64fe273c"
      },
      "outputs": [
        {
          "data": {
            "text/plain": [
              "1.7"
            ]
          },
          "execution_count": 26,
          "metadata": {},
          "output_type": "execute_result"
        }
      ],
      "source": [
        "ct = ComputerTable(2, 1, 1)\n",
        "ct.square(0.3)"
      ]
    },
    {
      "cell_type": "markdown",
      "metadata": {
        "id": "jk5RPa9n6-mE"
      },
      "source": [
        "Допустим, в классе KitchenTable нам не нужен метод, поле places должно устанавливаться при создании объекта в конструкторе. В классе можно создать собсвенный конструктор с чистого листа, чем переопределить родительский:"
      ]
    },
    {
      "cell_type": "code",
      "execution_count": null,
      "metadata": {
        "collapsed": true,
        "id": "Thf6R5tQ6-mE"
      },
      "outputs": [],
      "source": [
        "class KitchenTable(Table):\n",
        "    def __init__(self, l, w, h, p):\n",
        "        self.length = l\n",
        "        self.width = w\n",
        "        self.height = h\n",
        "        self.places = p"
      ]
    },
    {
      "cell_type": "markdown",
      "metadata": {
        "id": "h1jmLYpH6-mF"
      },
      "source": [
        "Однако, если дублируется почти весь конструктор надкласса, проще вызвать родительский конструктор, после чего дополнить своим кодом:"
      ]
    },
    {
      "cell_type": "code",
      "execution_count": null,
      "metadata": {
        "collapsed": true,
        "id": "BEsk7vbp6-mF"
      },
      "outputs": [],
      "source": [
        "class KitchenTable(Table):\n",
        "    def __init__(self, l, w, h, p):\n",
        "        Table.__init__(self, l, w, h)\n",
        "        self.places = p"
      ]
    },
    {
      "cell_type": "code",
      "execution_count": null,
      "metadata": {
        "collapsed": true,
        "id": "AthocV1L6-mF"
      },
      "outputs": [],
      "source": [
        "tk = KitchenTable(2, 1.5, 0.7, 10)"
      ]
    },
    {
      "cell_type": "code",
      "execution_count": null,
      "metadata": {
        "id": "d_gGmVar6-mF",
        "outputId": "189eadf3-bf1d-4881-8f56-efeb0633cea8"
      },
      "outputs": [
        {
          "data": {
            "text/plain": [
              "10"
            ]
          },
          "execution_count": 30,
          "metadata": {},
          "output_type": "execute_result"
        }
      ],
      "source": [
        "tk.places"
      ]
    },
    {
      "cell_type": "code",
      "execution_count": null,
      "metadata": {
        "id": "Hj3bIq2T6-mF",
        "outputId": "3f580ae8-4a2f-4cfe-aad8-f71310f94d1a"
      },
      "outputs": [
        {
          "data": {
            "text/plain": [
              "1.5"
            ]
          },
          "execution_count": 31,
          "metadata": {},
          "output_type": "execute_result"
        }
      ],
      "source": [
        "tk.width "
      ]
    },
    {
      "cell_type": "markdown",
      "metadata": {
        "id": "YbwkmUHR6-mF"
      },
      "source": [
        "# 3.3. Множественное наследование\n",
        "\n",
        "Для наследования от нескольких классав в определении класса-наследника достаточно указать в круглых скобках сразу несколько базовых классов через запятую.\n",
        "\n",
        "# Пример.\n",
        "\n",
        "Рассмотрим три класса:"
      ]
    },
    {
      "cell_type": "code",
      "execution_count": null,
      "metadata": {
        "id": "q1PefRD76-mF"
      },
      "outputs": [],
      "source": [
        "class Classl: \n",
        "    def funс1(self):\n",
        "        print(\"Метод funс1() класса Classl\")\n",
        "\n",
        "class Class2(Classl): # Простое наследование\n",
        "    def func2(self):\n",
        "        print(\"Метод func2() класса Class2\")\n",
        "\n",
        "class Class3(Classl): # Простое наследование\n",
        "    def funс1(self):\n",
        "        print(\"Метод funс1() класса Class3\")\n",
        "    def func2(self):\n",
        "        print(\"Метод func2() класса Class3\")\n",
        "    def func3(self):\n",
        "        print(\"Метод func3() класса Class3\")\n",
        "    def func4(self):\n",
        "        print(\"Метод func4() класса Class3\")\n",
        "\n",
        "class Class4(Class2, Class3): # Множественное наследование\n",
        "    def func4(self):\n",
        "        print(\"Метод func4() класса Class4\")"
      ]
    },
    {
      "cell_type": "code",
      "execution_count": null,
      "metadata": {
        "id": "IMX9MUbE6-mF",
        "outputId": "2f191c01-902d-4cf3-fc9d-08406bbc46e9"
      },
      "outputs": [
        {
          "name": "stdout",
          "output_type": "stream",
          "text": [
            "Метод funс1() класса Class3\n",
            "Метод func2() класса Class2\n",
            "Метод func3() класса Class3\n",
            "Метод func4() класса Class4\n"
          ]
        }
      ],
      "source": [
        "c = Class4()\n",
        "c.funс1() \n",
        "c.func2() \n",
        "c.func3() \n",
        "c.func4() "
      ]
    },
    {
      "cell_type": "markdown",
      "metadata": {
        "id": "vjjJbN1A6-mF"
      },
      "source": [
        "Метод func1() определен в двух классах: class1 и ciass3. Так как вначале просматриваются все базовые классы, непосредственно указанные в определении текущего класса, метод func1() будет найден в классе class3 (поскольку он указан в числе базовых классов в определении Class4), а не в классе Class1.\n",
        "\n",
        "Метод func2() также определен в двух классах: Class2 и Class3. Так как класс Class2 стоит первым в списке базовых классов, то метод будет найден именно в нем. \n",
        "\n",
        "Чтобы наследовать метод из класса Class3, следует указать это явным образом:"
      ]
    },
    {
      "cell_type": "code",
      "execution_count": null,
      "metadata": {
        "collapsed": true,
        "id": "tXkNX0Uk6-mF"
      },
      "outputs": [],
      "source": [
        "class Class4(Class2, Class3): # Множественное наследование\n",
        "# Наследуем func2() из класса Class3, а не из класса Class2\n",
        "    func2 = Class3.func2\n",
        "    def func4(self):\n",
        "        print(\"Метод func4() класса Class4\")"
      ]
    },
    {
      "cell_type": "code",
      "execution_count": null,
      "metadata": {
        "id": "Z_wu_xfI6-mG",
        "outputId": "2eaaf14a-b2e2-4f6c-a090-7a83d1cba7c9"
      },
      "outputs": [
        {
          "name": "stdout",
          "output_type": "stream",
          "text": [
            "Метод funс1() класса Class3\n",
            "Метод func2() класса Class3\n",
            "Метод func3() класса Class3\n",
            "Метод func4() класса Class4\n"
          ]
        }
      ],
      "source": [
        "c = Class4()\n",
        "c.funс1() \n",
        "c.func2() \n",
        "c.func3() \n",
        "c.func4() "
      ]
    },
    {
      "cell_type": "markdown",
      "metadata": {
        "collapsed": true,
        "id": "hL22tiPQ6-mG"
      },
      "source": [
        "# 4. Композиция\n",
        "\n",
        "Еще одной особенностью объектно-ориентированного программирования является возможность реализовывать так называемый композиционный подход. Заключается он в том, что есть класс-контейнер, он же агрегатор, который включает в себя вызовы других классов. В результате чего, что при создании объекта класса-контейнера, также создаются объекты включенных в него классов.\n",
        "\n",
        "Не следует путать композицию с наследованием, в том числе множественным. Наследование предполагает принадлежность к какой-то общности (похожесть), а композиция — формирование целого из частей. Наследуются атрибуты, т.е. возможности, другого класса, при этом объектов непосредственно родительского класса не создается. При композиции же класс-агрегатор создает объекты других классов.\n",
        "\n",
        "Рассмотрим на примере реализацию композиции в Python. Пусть, требуется написать программу, которая вычисляет площадь стен. При этом окна, двери, пол и потолок должны быть исключены.\n",
        "\n",
        "И так, комната – это прямоугольный параллелепипед, состоящий из шести прямоугольников. Его площадь представляет собой сумму площадей составляющих его прямоугольников. Площадь прямоугольника равна произведению его длины на ширину."
      ]
    },
    {
      "cell_type": "code",
      "execution_count": null,
      "metadata": {
        "collapsed": true,
        "id": "GkGX2YUi6-mG"
      },
      "outputs": [],
      "source": [
        "class WinDoor:\n",
        "     def __init__(self, x, y):\n",
        "          self.square = x * y "
      ]
    },
    {
      "cell_type": "code",
      "execution_count": null,
      "metadata": {
        "collapsed": true,
        "id": "iF5GOJR46-mG"
      },
      "outputs": [],
      "source": [
        "class Room:\n",
        "    def __init__(self, x, y, z):\n",
        "        self.square = 2 * z * (x + y)\n",
        "        self.wd = []\n",
        "    def addWD(self, w, h):\n",
        "        self.wd.append(WinDoor(w, h))\n",
        "    def workSurface(self):\n",
        "        new_square = self.square\n",
        "        for i in self.wd:\n",
        "            new_square -= i.square\n",
        "        return new_square"
      ]
    },
    {
      "cell_type": "code",
      "execution_count": null,
      "metadata": {
        "id": "jvPYAzK06-mG",
        "outputId": "ab941b2d-1ced-4dcb-a421-de8bf6f619d1"
      },
      "outputs": [
        {
          "name": "stdout",
          "output_type": "stream",
          "text": [
            "48.6\n",
            "44.6\n"
          ]
        }
      ],
      "source": [
        "r1 = Room(6, 3, 2.7) \n",
        "print(r1.square)\n",
        "r1.addWD(1, 1) \n",
        "r1.addWD(1, 1)\n",
        "r1.addWD(1, 2)\n",
        "print(r1.workSurface())"
      ]
    },
    {
      "cell_type": "markdown",
      "metadata": {
        "id": "TQhNUSZ76-mG"
      },
      "source": [
        "# Упражнение №4. \n",
        "\n",
        "Создайте класс животное (Pet) с атрибутами имя (name) и хозяин (person), методом голос (voice) и перегрузите для объектов этого класса вывод на печать (при выводе животное подаёт голос, сообщает свое имя и хозяина). \n",
        "На его основе создайте несколько типов животных (например: кошка, собака и т.д.) перегрузите в этих классах метод голос и создайте как минимум один уникальный метод присущий этому животному. \n",
        "На основе полученных классов сохдайте животных-гибридов (например кото-пёс и т.д.), определите для этих классов от кого именно наследуется метод голос.\n",
        "Продемонстрируйте работу с объектами этих классов."
      ]
    },
    {
      "cell_type": "code",
      "execution_count": 1,
      "metadata": {
        "colab": {
          "base_uri": "https://localhost:8080/"
        },
        "id": "vNz7T06A6-mG",
        "outputId": "5b47af7f-4eee-4d63-a0ad-bc12a2b8c237"
      },
      "outputs": [
        {
          "output_type": "stream",
          "name": "stdout",
          "text": [
            "Vitalii Brother kva\n"
          ]
        }
      ],
      "source": [
        "class Pet:\n",
        "    def __init__(self, name, person):\n",
        "        self.name = name\n",
        "        self.person = person\n",
        "    def __str__(self):\n",
        "        return (self.name + ' ' + self.person + ' ' + self.voice())\n",
        "    \n",
        "    def voice(self):\n",
        "        return 'I am a pet'\n",
        "class Frog(Pet):\n",
        "    def voice(self):\n",
        "        return 'kva'\n",
        "class Snake(Pet):\n",
        "    def voice(self):\n",
        "        return 'sh'\n",
        "class FrogSnake(Frog, Snake):\n",
        "    voice = Frog.voice\n",
        "vitalii = Frog('Vitalii', 'Brother')\n",
        "print(vitalii)\n"
      ]
    },
    {
      "cell_type": "markdown",
      "metadata": {
        "id": "_XJqdXVi6-mG"
      },
      "source": [
        "# Домашнее задание (базовое):"
      ]
    },
    {
      "cell_type": "markdown",
      "metadata": {
        "id": "i8GJ9jVG6-mG"
      },
      "source": [
        "# Задание №1. \n",
        "\n",
        "Создать класс с двумя переменными. Добавить функцию вывода на экран и функцию изменения этих переменных. Добавить функцию, которая находит сумму значений этих переменных, и функцию которая находит наибольшее значение из этих двух переменных."
      ]
    },
    {
      "cell_type": "code",
      "execution_count": 8,
      "metadata": {
        "collapsed": true,
        "colab": {
          "base_uri": "https://localhost:8080/"
        },
        "id": "Eh4ntGCW6-mG",
        "outputId": "2306c30f-f73a-46b5-c972-4a93869b51ad"
      },
      "outputs": [
        {
          "output_type": "stream",
          "name": "stdout",
          "text": [
            "10\n"
          ]
        }
      ],
      "source": [
        "# Создать класс \n",
        "class TwoNumbers:\n",
        "    # c двумя переменными\n",
        "    def __init__(self, x, y): \n",
        "        self.x = x\n",
        "        self.y = y\n",
        "    # Добавить функцию вывода на экран\n",
        "    def __str__(self): \n",
        "        return (str(self.x) + ' ' + str(self.y))\n",
        "    #  функцию изменения этих переменных.\n",
        "    def setNumbers(self, x, y): # self = p1, x = 10, y = 100\n",
        "        self.x = x\n",
        "        self.y = y\n",
        "    # Добавить функцию, которая находит сумму значений этих переменных,\n",
        "    def summ(self):\n",
        "        return (self.x + self.y)\n",
        "    #  и функцию которая находит наибольшее значение из этих двух переменных.\n",
        "    def maxx(self): # self = p1\n",
        "        if self.x > self.y: # self.x = p1.x = 5, self.y = 10. 5 > 10?\n",
        "            return self.x\n",
        "        else:\n",
        "            return self.y\n",
        "#пример:\n",
        "#p1 = TwoNumbers(5, 10)\n",
        "#print(p1.maxx())"
      ]
    },
    {
      "cell_type": "markdown",
      "metadata": {
        "id": "lxaNLZRF6-mG"
      },
      "source": [
        "# Задание №2. "
      ]
    },
    {
      "cell_type": "markdown",
      "metadata": {
        "collapsed": true,
        "id": "RqMm00dG6-mJ"
      },
      "source": [
        "Составить описание класса многочленов от одной переменной, задаваемых степенью многочлена и массивом коэффициентов. Предусмотреть методы для вычисления значения многочлена для заданного аргумента, операции сложения, вычитания и умножения многочленов с получением нового объекта-многочлена, вывод на экран описания многочлена."
      ]
    },
    {
      "cell_type": "code",
      "execution_count": null,
      "metadata": {
        "collapsed": true,
        "id": "22pErA216-mJ"
      },
      "outputs": [],
      "source": []
    },
    {
      "cell_type": "markdown",
      "metadata": {
        "id": "3_UYALcO6-mK"
      },
      "source": [
        "# Задание №3\n",
        "\n",
        "Реализуйте класс Matrix. Он должен содержать:\n",
        "\n",
        "- Конструктор от списка списков. Гарантируется, что списки состоят из чисел, не пусты и все имеют одинаковый размер. Конструктор должен копировать содержимое списка списков, т.е. при изменении списков, от которых была сконструирована матрица, содержимое матрицы изменяться не должно.\n",
        "- Метод $__str__$, переводящий матрицу в строку. При этом элементы внутри одной строки должны быть разделены знаками табуляции, а строки — переносами строк. После каждой строки не должно быть символа табуляции и в конце не должно быть переноса строки.\n",
        "- Метод size без аргументов, возвращающий кортеж вида (число строк, число столбцов). \n",
        "- $__add__$, принимающий вторую матрицу того же размера и возвращающий сумму матриц. В случае, если две матрицы сложить невозможно, должно выводиться сообщение об ошибке.\n",
        "- $__mul__$, таким образом, чтобы матрицы можно было умножать на скаляры и на другие матрицы. В случае, если две матрицы перемножить невозможно, должно выводиться сообщение об ошибке.\n",
        "- $__rmul__$, делающий то же самое, что и $__mul__$. Этот метод будет вызван в том случае, аргумент находится справа. Для реализации этого метода в коде класса достаточно написать $__rmul__$ = $__mul__$.\n",
        "- Реализуйте статический метод transposed, принимающий Matrix и возвращающий транспонированную матрицу."
      ]
    },
    {
      "cell_type": "code",
      "execution_count": null,
      "metadata": {
        "id": "Tf_lCuDN6-mK"
      },
      "outputs": [],
      "source": []
    },
    {
      "cell_type": "markdown",
      "metadata": {
        "id": "Kxf5YIAN6-mK"
      },
      "source": [
        "# Задание №4 Поезда.\n",
        "\n",
        "Создайте структуру с именем train, содержащую поля: название пунктов отправления и назначения, время отправления и прибытия. Перегрузить операцию сложения - два поезда можно сложить, если пунк назначения первого совпадает с пунктом отправления второго и время прибытия первого раньше чем отправление второго."
      ]
    },
    {
      "cell_type": "code",
      "execution_count": 9,
      "metadata": {
        "collapsed": true,
        "colab": {
          "base_uri": "https://localhost:8080/",
          "height": 356
        },
        "id": "z4m7IBxc6-mK",
        "outputId": "261c51ef-d496-4215-861f-7519742fd620"
      },
      "outputs": [
        {
          "output_type": "stream",
          "name": "stdout",
          "text": [
            "Поезд из Москва (20:00) в Омск (23:00)\n"
          ]
        },
        {
          "output_type": "error",
          "ename": "ValueError",
          "evalue": "ignored",
          "traceback": [
            "\u001b[0;31m---------------------------------------------------------------------------\u001b[0m",
            "\u001b[0;31mValueError\u001b[0m                                Traceback (most recent call last)",
            "\u001b[0;32m<ipython-input-9-a86fdfd783b8>\u001b[0m in \u001b[0;36m<module>\u001b[0;34m\u001b[0m\n\u001b[1;32m     20\u001b[0m \u001b[0mt2\u001b[0m \u001b[0;34m=\u001b[0m \u001b[0mTrain\u001b[0m\u001b[0;34m(\u001b[0m\u001b[0;34m'Казань'\u001b[0m\u001b[0;34m,\u001b[0m \u001b[0;34m'22:00'\u001b[0m\u001b[0;34m,\u001b[0m \u001b[0;34m'Омск'\u001b[0m\u001b[0;34m,\u001b[0m \u001b[0;34m'23:00'\u001b[0m\u001b[0;34m)\u001b[0m \u001b[0;31m# из Казани в Омск\u001b[0m\u001b[0;34m\u001b[0m\u001b[0;34m\u001b[0m\u001b[0m\n\u001b[1;32m     21\u001b[0m \u001b[0mprint\u001b[0m\u001b[0;34m(\u001b[0m\u001b[0mt1\u001b[0m \u001b[0;34m+\u001b[0m \u001b[0mt2\u001b[0m\u001b[0;34m)\u001b[0m\u001b[0;34m\u001b[0m\u001b[0;34m\u001b[0m\u001b[0m\n\u001b[0;32m---> 22\u001b[0;31m \u001b[0mprint\u001b[0m\u001b[0;34m(\u001b[0m\u001b[0mt2\u001b[0m \u001b[0;34m+\u001b[0m \u001b[0mt1\u001b[0m\u001b[0;34m)\u001b[0m\u001b[0;34m\u001b[0m\u001b[0;34m\u001b[0m\u001b[0m\n\u001b[0m",
            "\u001b[0;32m<ipython-input-9-a86fdfd783b8>\u001b[0m in \u001b[0;36m__add__\u001b[0;34m(self, other)\u001b[0m\n\u001b[1;32m     16\u001b[0m             \u001b[0;32mreturn\u001b[0m \u001b[0mTrain\u001b[0m\u001b[0;34m(\u001b[0m\u001b[0mself\u001b[0m\u001b[0;34m.\u001b[0m\u001b[0mfromLoc\u001b[0m\u001b[0;34m,\u001b[0m \u001b[0mself\u001b[0m\u001b[0;34m.\u001b[0m\u001b[0mfromTime\u001b[0m\u001b[0;34m,\u001b[0m \u001b[0mother\u001b[0m\u001b[0;34m.\u001b[0m\u001b[0mtoLoc\u001b[0m\u001b[0;34m,\u001b[0m \u001b[0mother\u001b[0m\u001b[0;34m.\u001b[0m\u001b[0mtoTime\u001b[0m\u001b[0;34m)\u001b[0m \u001b[0;31m# возвращаем новый объект поезд\u001b[0m\u001b[0;34m\u001b[0m\u001b[0;34m\u001b[0m\u001b[0m\n\u001b[1;32m     17\u001b[0m         \u001b[0;32melse\u001b[0m\u001b[0;34m:\u001b[0m\u001b[0;34m\u001b[0m\u001b[0;34m\u001b[0m\u001b[0m\n\u001b[0;32m---> 18\u001b[0;31m             \u001b[0;32mraise\u001b[0m \u001b[0mValueError\u001b[0m\u001b[0;34m(\u001b[0m\u001b[0;34m\"ERROR with adding trains\"\u001b[0m\u001b[0;34m)\u001b[0m \u001b[0;31m#создаем ошибку\u001b[0m\u001b[0;34m\u001b[0m\u001b[0;34m\u001b[0m\u001b[0m\n\u001b[0m\u001b[1;32m     19\u001b[0m \u001b[0mt1\u001b[0m \u001b[0;34m=\u001b[0m \u001b[0mTrain\u001b[0m\u001b[0;34m(\u001b[0m\u001b[0;34m'Москва'\u001b[0m\u001b[0;34m,\u001b[0m \u001b[0;34m'20:00'\u001b[0m\u001b[0;34m,\u001b[0m \u001b[0;34m'Казань'\u001b[0m\u001b[0;34m,\u001b[0m \u001b[0;34m'21:00'\u001b[0m\u001b[0;34m)\u001b[0m \u001b[0;31m# из Москвы в Казань\u001b[0m\u001b[0;34m\u001b[0m\u001b[0;34m\u001b[0m\u001b[0m\n\u001b[1;32m     20\u001b[0m \u001b[0mt2\u001b[0m \u001b[0;34m=\u001b[0m \u001b[0mTrain\u001b[0m\u001b[0;34m(\u001b[0m\u001b[0;34m'Казань'\u001b[0m\u001b[0;34m,\u001b[0m \u001b[0;34m'22:00'\u001b[0m\u001b[0;34m,\u001b[0m \u001b[0;34m'Омск'\u001b[0m\u001b[0;34m,\u001b[0m \u001b[0;34m'23:00'\u001b[0m\u001b[0;34m)\u001b[0m \u001b[0;31m# из Казани в Омск\u001b[0m\u001b[0;34m\u001b[0m\u001b[0;34m\u001b[0m\u001b[0m\n",
            "\u001b[0;31mValueError\u001b[0m: ERROR with adding trains"
          ]
        }
      ],
      "source": [
        "class Train:\n",
        "    def __init__(self, fromLoc, fromTime, toLoc, toTime):\n",
        "        self.fromLoc = fromLoc\n",
        "        self.fromTime = fromTime\n",
        "        self.toLoc = toLoc\n",
        "        self.toTime = toTime\n",
        "    def __str__(self):\n",
        "        return (\"Поезд из \" + self.fromLoc +\" (\" + self.fromTime + \") в \" + self.toLoc + \" (\" + self.toTime + \")\")\n",
        "        # Поезд из Москва (20:00) в Омск(23:00)\n",
        "    # Перегрузка операции сложения:\n",
        "    def __add__(self, other):\n",
        "        time1 = int(self.toTime.replace(':', '')) # время прибытия первого превращаем в целое числo\n",
        "        time2 = int(other.fromTime.replace(':', '')) # время отправления второго превращаем в целое числo\n",
        "        # если пункт назначения первого совпадает с пунктом отправления второго И время прибытия первого раньше, чем отправление второго, то:\n",
        "        if (self.toLoc == other.fromLoc) and (time1 < time2): \n",
        "            return Train(self.fromLoc, self.fromTime, other.toLoc, other.toTime) # возвращаем новый объект поезд\n",
        "        else:\n",
        "            raise ValueError(\"ERROR with adding trains\") #создаем ошибку\n",
        "t1 = Train('Москва', '20:00', 'Казань', '21:00') # из Москвы в Казань\n",
        "t2 = Train('Казань', '22:00', 'Омск', '23:00') # из Казани в Омск\n",
        "print(t1 + t2)\n",
        "print(t2 + t1)"
      ]
    },
    {
      "cell_type": "markdown",
      "metadata": {
        "id": "zCYpKecD6-mK"
      },
      "source": [
        "# Задание №5\n",
        "\n",
        "Создайте класс Vector наследующий все атрибуты класса Matrix, методы реализованные в классе из задания 3 предыдущей лабораторной и обладающим методом векторного произведения векторов."
      ]
    },
    {
      "cell_type": "code",
      "execution_count": null,
      "metadata": {
        "id": "iKOLcfyV6-mK"
      },
      "outputs": [],
      "source": []
    },
    {
      "cell_type": "markdown",
      "metadata": {
        "id": "s5t-trRa6-mK"
      },
      "source": [
        "# Домашнее задание (дополнительное):"
      ]
    },
    {
      "cell_type": "markdown",
      "metadata": {
        "id": "HrahrDb36-mK"
      },
      "source": [
        "# Обобщённое число.\n",
        "\n",
        "Создайте класс обобщающий понятие комплексных, двойных и дуальных чисел. И на его основе создайте классы этих чисел.\n",
        "\n",
        "Такие числа объеденены одной формой записи:\n",
        "\n",
        "$$ c = a + ib $$\n",
        "\n",
        "где c - обобщённое число (комплексное, двойное или дуальное), a и b - вещественные числа, i - некоммутирующий символ.\n",
        "\n",
        "Именно из-за наличия символа i число c не просто сумма a и b. Такие числа можно представлять как вектор на плоскости (a,b).\n",
        "\n",
        "А символ i обладает следующим свойством:\n",
        "\n",
        "- для комплексных чисел\n",
        "\n",
        "$$ i^2 = -1 $$\n",
        "\n",
        "- для двойных чисел\n",
        "\n",
        "$$ i^2 = 1 $$\n",
        "\n",
        "- для дуальных чисел\n",
        "\n",
        "$$ i^2 = 0 $$\n",
        "\n",
        "Перегрузить для них базовые операции: сложения, вычитания, умножения и деления.\n",
        "\n",
        "Например, операция умножения для таких чисел имеет вид:\n",
        "\n",
        "$$ (a_1+b_1i)\\cdot (a_2+b_2i)=a_1a_2+b_1a_2i+a_1b_2i+b_1b_2i^{2}=(a_1a_2+b_1b_2i^{2})+(b_1a_2+a_1b_2)i. $$"
      ]
    },
    {
      "cell_type": "code",
      "execution_count": null,
      "metadata": {
        "collapsed": true,
        "id": "PpXJMCCU6-mL"
      },
      "outputs": [],
      "source": []
    },
    {
      "cell_type": "markdown",
      "metadata": {
        "id": "ScxiNhdc6-mL"
      },
      "source": [
        "# Формула.\n",
        "\n",
        "Напишите класс \"Формула\" для создания символьной записи формулы и её вычисления. Класс должен содержать атрибуты: \n",
        "- список операций производимых над переменной \"x\", \n",
        "- метод для вывода всех операторов и вывода определённого оператора по его номеру,\n",
        "- метод для составления формулы как строки скомпанованной из заданных операторов, \n",
        "- метод для изменения оператора,\n",
        "- метод для подстановки значения x и вычисления значения формулы (например, с помощью функции eval() :-) )."
      ]
    },
    {
      "cell_type": "code",
      "execution_count": null,
      "metadata": {
        "collapsed": true,
        "id": "QB4JqQ4x6-mL"
      },
      "outputs": [],
      "source": []
    },
    {
      "cell_type": "markdown",
      "metadata": {
        "id": "XuLugher6-mL"
      },
      "source": [
        "# Больше формул!\n",
        "\n",
        "Определите для объектов класса \"Формула\" алгебраические операции: +, -, *, /."
      ]
    },
    {
      "cell_type": "code",
      "execution_count": null,
      "metadata": {
        "collapsed": true,
        "id": "ZbxvaRLf6-mL"
      },
      "outputs": [],
      "source": []
    }
  ],
  "metadata": {
    "kernelspec": {
      "display_name": "Python 3",
      "language": "python",
      "name": "python3"
    },
    "language_info": {
      "codemirror_mode": {
        "name": "ipython",
        "version": 3
      },
      "file_extension": ".py",
      "mimetype": "text/x-python",
      "name": "python",
      "nbconvert_exporter": "python",
      "pygments_lexer": "ipython3",
      "version": "3.7.9"
    },
    "colab": {
      "provenance": []
    }
  },
  "nbformat": 4,
  "nbformat_minor": 0
}